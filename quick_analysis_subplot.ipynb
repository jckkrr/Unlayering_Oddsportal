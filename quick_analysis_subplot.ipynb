{
 "cells": [
  {
   "cell_type": "markdown",
   "id": "3190e3a7-c269-4b57-b9be-92d145b9fa62",
   "metadata": {},
   "source": [
    "## Quick overview dashboards\n",
    "\n",
    "To give a quick overview of the data and fulfill your basic curiosities about it. Other dashboards give deeper analysis."
   ]
  },
  {
   "cell_type": "code",
   "execution_count": 1,
   "id": "5fa8b0fe-337a-4c52-9e6d-ff02058197df",
   "metadata": {},
   "outputs": [],
   "source": [
    "import glob\n",
    "import numpy as np\n",
    "import pandas as pd\n",
    "import plotly.graph_objects as go\n",
    "from plotly.subplots import make_subplots\n",
    "import os\n",
    "import re\n",
    "\n",
    "import customChartDefaultStyling\n",
    "import oddsportal_compileDF\n",
    "\n",
    "pd.set_option('display.max_columns', None)\n",
    "\n",
    "colors = {'home': {'r': 0,'g': 100, 'b': 0}, 'draw': {'r': 249,'g': 180, 'b': 45}, 'away': {'r': 255,'g': 0, 'b': 0},}\n",
    "def getColor(wintype, alpha):    \n",
    "    return f'rgba({colors[wintype][\"r\"]}, {colors[wintype][\"g\"]}, {colors[wintype][\"b\"]}, {alpha})'\n",
    "\n",
    "dBOOKIES = dict((row['bookie_code'], row['bookie_name']) for index, row in pd.read_csv('CSVs/dfBOOKIES.csv').iterrows())\n",
    "dBOOKIES[0] = 'unknown'"
   ]
  },
  {
   "cell_type": "code",
   "execution_count": 59,
   "id": "5b1a866e-7fc3-4c30-a555-16a7c9b99d04",
   "metadata": {},
   "outputs": [],
   "source": [
    "def makeSubplots(country, competitions_list):\n",
    "    \n",
    "    df = oddsportal_compileDF.getDFCONCAT(country, competitions_list)\n",
    "    df['shortest_close'] = np.where((df['home_win'] < df['draw']) & (df['home_win'] < df['away_win']), 'home', np.where((df['draw'] < df['home_win']) & (df['draw'] < df['away_win']), 'draw', np.where((df['away_win'] < df['home_win']) & (df['away_win'] < df['draw']), 'away', None)))\n",
    "    df['shortest_opening'] = np.where((df['home_win_opening'] < df['draw_opening']) & (df['home_win_opening'] < df['away_win_opening']), 'home', np.where((df['draw_opening'] < df['home_win_opening']) & (df['draw_opening'] < df['away_win_opening']), 'draw', np.where((df['away_win_opening'] < df['home_win_opening']) & (df['away_win_opening'] < df['draw_opening']), 'away', None)))\n",
    "    df['haOpenEqual'] = np.where((df['home_win'] == df['away_win']), 1,0)\n",
    "\n",
    "    ####\n",
    "    \n",
    "    fig = make_subplots(\n",
    "        rows=2, cols=5,\n",
    "        specs=[[{}, {}, {}, {}, {}],\n",
    "               [{\"colspan\": 5}, None, None, None, None]]\n",
    "        )\n",
    "    \n",
    "    default_color = 'rgb(23,45,187)'\n",
    "    \n",
    "    def subBar(col_name, df_limit, plot_row, plot_col):\n",
    "        \n",
    "        dfSP = df.copy()\n",
    "        \n",
    "        if col_name == 'shortest':\n",
    "            \n",
    "            dfSP1 = dfSP['shortest_close'].value_counts().to_frame().rename(columns={0:'amount'})\n",
    "            dfSP1['close_pc'] = dfSP1['shortest_close'] / dfSP1['shortest_close'].sum() * 100\n",
    "            \n",
    "            dfSP2 = dfSP['shortest_opening'].value_counts().to_frame().rename(columns={0:'amount'})\n",
    "            dfSP2['open_pc'] = dfSP2['shortest_opening'] / dfSP2['shortest_opening'].sum() * 100\n",
    "            \n",
    "            dfSP = dfSP1.merge(dfSP2, left_on=dfSP1.index, right_on=dfSP2.index)\n",
    "            #dfSP['amount'] = dfSP['shortest_close'] - dfSP['shortest_opening']\n",
    "            dfSP['amount'] = round(dfSP['close_pc'] - dfSP['open_pc'], 2)\n",
    "            dfSP.index = dfSP['key_0']\n",
    "                        \n",
    "        else:\n",
    "            \n",
    "            if col_name in ['winning_odds']:\n",
    "                dfSP[col_name] = dfSP[col_name].apply(lambda x: round(x,1))\n",
    "            \n",
    "            dfSP = dfSP[[col_name]].value_counts().to_frame().rename(columns={0:'amount'})\n",
    "            dfSP.index = [x[0] for x in dfSP.index] \n",
    "        \n",
    "        ## \n",
    "        \n",
    "        dfSP = dfSP.iloc[0:df_limit]\n",
    "                \n",
    "        if col_name in ['winner', 'shortest_close', 'shortest']:\n",
    "            colors = [getColor(x, 1) for x in dfSP.index]\n",
    "        else:\n",
    "            colors = [default_color for x in dfSP.index]\n",
    "                        \n",
    "        x, y = dfSP.index, dfSP['amount']\n",
    "        fig.add_trace(go.Bar(x=x,y=y, marker=dict(color=colors), hovertemplate='%{x}: %{y}<extra></extra>'), row=plot_row, col=plot_col)\n",
    "        \n",
    "    def subScatter(col_name_X, col_name_Y, plot_row, plot_col):\n",
    "        \n",
    "        dfSP = df[[col_name_X, col_name_Y]].value_counts().to_frame().reset_index().rename(columns={0:'amount'})\n",
    "        dfSP['hover_text'] = dfSP[col_name_X].apply(lambda x: str(int(x))) + ', ' + dfSP[col_name_Y].apply(lambda x: str(int(x))) + ': ' + dfSP['amount'].apply(lambda x: str(x))\n",
    "        fig.add_trace(go.Scatter(x=dfSP[col_name_X], y=dfSP[col_name_Y], mode='markers', marker=dict(color=default_color, size=[x**0.25 for x in dfSP['amount']]), hovertext=dfSP['hover_text'], hoverinfo='text'), row=plot_row, col=plot_col)\n",
    "                \n",
    "    subBar('winner', None, 1, 1)\n",
    "    subBar('shortest_close', None, 1, 2)\n",
    "    subBar('shortest', None, 1, 3)\n",
    "    subScatter('H', 'A', 1, 4)\n",
    "    subBar('bookie_name', 15, 1, 5)\n",
    "    \n",
    "    winning_odds_cutoff = 20\n",
    "    subBar('winning_odds', winning_odds_cutoff, 2, 1)\n",
    "    \n",
    "    ### \n",
    "    \n",
    "    headline, subhead, xaxes_title, yaxes_title, figHeight, marginTop, showLegend = ', '.join([x.title() for x in df['country'].unique()]), ', '.join([x for x in df['competition'].unique()]), None, None, 500, 70, False\n",
    "    customChartDefaultStyling.styling(fig, headline, subhead, xaxes_title, yaxes_title, figHeight, marginTop, showLegend)\n",
    "\n",
    "    # edit axis labels\n",
    "    fig['layout']['xaxis']['title']= 'result type'\n",
    "    fig['layout']['xaxis2']['title']= 'shortest odds at closing' \n",
    "    fig['layout']['xaxis3']['title']= 'shortest odds ppt change'\n",
    "    fig['layout']['xaxis4']['title']= 'home (x) * away (y) goals'\n",
    "    fig['layout']['xaxis5']['title']= 'bookmakers'    \n",
    "    fig['layout']['xaxis6']['title']= f'winning odds (rounded, top {winning_odds_cutoff})'\n",
    "    \n",
    "    fig.show()"
   ]
  },
  {
   "cell_type": "code",
   "execution_count": 61,
   "id": "08272d73-7f7c-4d6f-85dc-f1076a43897c",
   "metadata": {},
   "outputs": [
    {
     "name": "stdout",
     "output_type": "stream",
     "text": [
      "championship          (329376, 37)\t(329376, 37)\n"
     ]
    },
    {
     "data": {
      "application/vnd.plotly.v1+json": {
       "config": {
        "plotlyServerURL": "https://plotly.com"
       },
       "data": [
        {
         "hovertemplate": "%{x}: %{y}<extra></extra>",
         "marker": {
          "color": [
           "rgba(0, 100, 0, 1)",
           "rgba(255, 0, 0, 1)",
           "rgba(249, 180, 45, 1)"
          ]
         },
         "type": "bar",
         "x": [
          "home",
          "away",
          "draw"
         ],
         "xaxis": "x",
         "y": [
          141772,
          97926,
          89678
         ],
         "yaxis": "y"
        },
        {
         "hovertemplate": "%{x}: %{y}<extra></extra>",
         "marker": {
          "color": [
           "rgba(0, 100, 0, 1)",
           "rgba(255, 0, 0, 1)",
           "rgba(249, 180, 45, 1)"
          ]
         },
         "type": "bar",
         "x": [
          "home",
          "away",
          "draw"
         ],
         "xaxis": "x2",
         "y": [
          245096,
          80032,
          112
         ],
         "yaxis": "y2"
        },
        {
         "hovertemplate": "%{x}: %{y}<extra></extra>",
         "marker": {
          "color": [
           "rgba(0, 100, 0, 1)",
           "rgba(255, 0, 0, 1)",
           "rgba(249, 180, 45, 1)"
          ]
         },
         "type": "bar",
         "x": [
          "home",
          "away",
          "draw"
         ],
         "xaxis": "x3",
         "y": [
          -1.19,
          1.27,
          -0.08
         ],
         "yaxis": "y3"
        },
        {
         "hoverinfo": "text",
         "hovertext": [
          "1, 1: 42400",
          "1, 0: 34883",
          "2, 1: 30503",
          "0, 1: 28827",
          "0, 0: 26096",
          "2, 0: 25475",
          "1, 2: 23965",
          "2, 2: 17692",
          "0, 2: 15727",
          "3, 0: 13401",
          "3, 1: 11602",
          "3, 2: 8484",
          "1, 3: 8419",
          "0, 3: 6354",
          "2, 3: 6065",
          "4, 1: 4412",
          "4, 0: 4403",
          "3, 3: 3144",
          "1, 4: 2490",
          "4, 2: 2186",
          "0, 4: 1807",
          "2, 4: 1597",
          "5, 0: 1531",
          "5, 1: 1296",
          "4, 3: 888",
          "5, 2: 734",
          "3, 4: 731",
          "1, 5: 597",
          "6, 1: 532",
          "6, 0: 460",
          "0, 5: 400",
          "5, 3: 321",
          "2, 5: 310",
          "4, 4: 264",
          "0, 6: 164",
          "7, 0: 159",
          "6, 2: 156",
          "7, 1: 144",
          "3, 5: 107",
          "0, 7: 98",
          "1, 6: 93",
          "4, 5: 85",
          "7, 2: 83",
          "5, 5: 82",
          "5, 4: 64",
          "8, 0: 46",
          "0, 8: 36",
          "3, 7: 29",
          "4, 6: 25",
          "6, 3: 9"
         ],
         "marker": {
          "color": "rgb(23,45,187)",
          "size": [
           14.349655146369894,
           13.666378888488923,
           13.215562066350058,
           13.030163405037262,
           12.709939576979481,
           12.633641478019062,
           12.442119217396494,
           11.533051535363157,
           11.19854170454917,
           10.759307054334327,
           10.37846715606057,
           9.597324185279751,
           9.57888870639958,
           8.928156670529395,
           8.824857499685201,
           8.150023780435395,
           8.145864306794975,
           7.48808273695642,
           7.063986112634891,
           6.837739312831679,
           6.519879033668076,
           6.321588598238276,
           6.25523741300262,
           6,
           5.458876152790305,
           5.205039324374805,
           5.199712652559904,
           4.9430338301230785,
           4.802616494093776,
           4.631156506697567,
           4.47213595499958,
           4.232785473794877,
           4.19604776684668,
           4.030890324639449,
           3.5785819083633807,
           3.5509886247238938,
           3.5341188430493955,
           3.4641016151377544,
           3.216221452697031,
           3.1463462836457885,
           3.1054227990714813,
           3.036370276710811,
           3.018349479292333,
           3.009216698434564,
           2.8284271247461903,
           2.604290687140218,
           2.449489742783178,
           2.320595787106084,
           2.23606797749979,
           1.7320508075688772
          ]
         },
         "mode": "markers",
         "type": "scatter",
         "x": [
          1,
          1,
          2,
          0,
          0,
          2,
          1,
          2,
          0,
          3,
          3,
          3,
          1,
          0,
          2,
          4,
          4,
          3,
          1,
          4,
          0,
          2,
          5,
          5,
          4,
          5,
          3,
          1,
          6,
          6,
          0,
          5,
          2,
          4,
          0,
          7,
          6,
          7,
          3,
          0,
          1,
          4,
          7,
          5,
          5,
          8,
          0,
          3,
          4,
          6
         ],
         "xaxis": "x4",
         "y": [
          1,
          0,
          1,
          1,
          0,
          0,
          2,
          2,
          2,
          0,
          1,
          2,
          3,
          3,
          3,
          1,
          0,
          3,
          4,
          2,
          4,
          4,
          0,
          1,
          3,
          2,
          4,
          5,
          1,
          0,
          5,
          3,
          5,
          4,
          6,
          0,
          2,
          1,
          5,
          7,
          6,
          5,
          2,
          5,
          4,
          0,
          8,
          7,
          6,
          3
         ],
         "yaxis": "y4"
        },
        {
         "hovertemplate": "%{x}: %{y}<extra></extra>",
         "marker": {
          "color": [
           "rgb(23,45,187)",
           "rgb(23,45,187)",
           "rgb(23,45,187)",
           "rgb(23,45,187)",
           "rgb(23,45,187)",
           "rgb(23,45,187)",
           "rgb(23,45,187)",
           "rgb(23,45,187)",
           "rgb(23,45,187)",
           "rgb(23,45,187)",
           "rgb(23,45,187)",
           "rgb(23,45,187)",
           "rgb(23,45,187)",
           "rgb(23,45,187)",
           "rgb(23,45,187)"
          ]
         },
         "type": "bar",
         "x": [
          "iFortuna.cz",
          "Tipsport.cz",
          "Chance.cz",
          "William Hill",
          "eFortuna.pl",
          "BetVictor",
          "bet-at-home",
          "bwin",
          "bet365",
          "NordicBet",
          "Pinnacle",
          "iFortuna.sk",
          "10Bet",
          "Betfred",
          "Betsafe"
         ],
         "xaxis": "x5",
         "y": [
          10473,
          10460,
          10449,
          10427,
          10235,
          10199,
          10045,
          9815,
          9799,
          9733,
          9628,
          9622,
          9549,
          9385,
          9146
         ],
         "yaxis": "y5"
        },
        {
         "hovertemplate": "%{x}: %{y}<extra></extra>",
         "marker": {
          "color": [
           "rgb(23,45,187)",
           "rgb(23,45,187)",
           "rgb(23,45,187)",
           "rgb(23,45,187)",
           "rgb(23,45,187)",
           "rgb(23,45,187)",
           "rgb(23,45,187)",
           "rgb(23,45,187)",
           "rgb(23,45,187)",
           "rgb(23,45,187)",
           "rgb(23,45,187)",
           "rgb(23,45,187)",
           "rgb(23,45,187)",
           "rgb(23,45,187)",
           "rgb(23,45,187)",
           "rgb(23,45,187)",
           "rgb(23,45,187)",
           "rgb(23,45,187)",
           "rgb(23,45,187)",
           "rgb(23,45,187)"
          ]
         },
         "type": "bar",
         "x": [
          3.2,
          3.1,
          3.4,
          1.9,
          3,
          2.2,
          3.5,
          2.5,
          3.3,
          1.8,
          2.1,
          2.4,
          2,
          1.6,
          1.7,
          2.6,
          2.8,
          2.3,
          2.9,
          3.6
         ],
         "xaxis": "x6",
         "y": [
          25539,
          16849,
          16778,
          16559,
          14698,
          14438,
          14395,
          14364,
          14055,
          14045,
          13679,
          13512,
          13482,
          12801,
          10380,
          10158,
          9300,
          9130,
          9111,
          8388
         ],
         "yaxis": "y6"
        }
       ],
       "layout": {
        "autosize": true,
        "font": {
         "color": "rgba(24,24,24,1)",
         "family": "Manrope, Sohne, Inter, Arial",
         "size": 8
        },
        "legend": {
         "font": {
          "color": "#181818",
          "size": 10
         },
         "orientation": "h",
         "x": 1,
         "xanchor": "right",
         "y": 1,
         "yanchor": "bottom"
        },
        "margin": {
         "b": 0,
         "l": 0,
         "r": 0,
         "t": 70
        },
        "paper_bgcolor": "rgba(255,255,255,0)",
        "plot_bgcolor": "rgba(255,255,255,0)",
        "showlegend": false,
        "template": {
         "data": {
          "bar": [
           {
            "error_x": {
             "color": "#2a3f5f"
            },
            "error_y": {
             "color": "#2a3f5f"
            },
            "marker": {
             "line": {
              "color": "#E5ECF6",
              "width": 0.5
             },
             "pattern": {
              "fillmode": "overlay",
              "size": 10,
              "solidity": 0.2
             }
            },
            "type": "bar"
           }
          ],
          "barpolar": [
           {
            "marker": {
             "line": {
              "color": "#E5ECF6",
              "width": 0.5
             },
             "pattern": {
              "fillmode": "overlay",
              "size": 10,
              "solidity": 0.2
             }
            },
            "type": "barpolar"
           }
          ],
          "carpet": [
           {
            "aaxis": {
             "endlinecolor": "#2a3f5f",
             "gridcolor": "white",
             "linecolor": "white",
             "minorgridcolor": "white",
             "startlinecolor": "#2a3f5f"
            },
            "baxis": {
             "endlinecolor": "#2a3f5f",
             "gridcolor": "white",
             "linecolor": "white",
             "minorgridcolor": "white",
             "startlinecolor": "#2a3f5f"
            },
            "type": "carpet"
           }
          ],
          "choropleth": [
           {
            "colorbar": {
             "outlinewidth": 0,
             "ticks": ""
            },
            "type": "choropleth"
           }
          ],
          "contour": [
           {
            "colorbar": {
             "outlinewidth": 0,
             "ticks": ""
            },
            "colorscale": [
             [
              0,
              "#0d0887"
             ],
             [
              0.1111111111111111,
              "#46039f"
             ],
             [
              0.2222222222222222,
              "#7201a8"
             ],
             [
              0.3333333333333333,
              "#9c179e"
             ],
             [
              0.4444444444444444,
              "#bd3786"
             ],
             [
              0.5555555555555556,
              "#d8576b"
             ],
             [
              0.6666666666666666,
              "#ed7953"
             ],
             [
              0.7777777777777778,
              "#fb9f3a"
             ],
             [
              0.8888888888888888,
              "#fdca26"
             ],
             [
              1,
              "#f0f921"
             ]
            ],
            "type": "contour"
           }
          ],
          "contourcarpet": [
           {
            "colorbar": {
             "outlinewidth": 0,
             "ticks": ""
            },
            "type": "contourcarpet"
           }
          ],
          "heatmap": [
           {
            "colorbar": {
             "outlinewidth": 0,
             "ticks": ""
            },
            "colorscale": [
             [
              0,
              "#0d0887"
             ],
             [
              0.1111111111111111,
              "#46039f"
             ],
             [
              0.2222222222222222,
              "#7201a8"
             ],
             [
              0.3333333333333333,
              "#9c179e"
             ],
             [
              0.4444444444444444,
              "#bd3786"
             ],
             [
              0.5555555555555556,
              "#d8576b"
             ],
             [
              0.6666666666666666,
              "#ed7953"
             ],
             [
              0.7777777777777778,
              "#fb9f3a"
             ],
             [
              0.8888888888888888,
              "#fdca26"
             ],
             [
              1,
              "#f0f921"
             ]
            ],
            "type": "heatmap"
           }
          ],
          "heatmapgl": [
           {
            "colorbar": {
             "outlinewidth": 0,
             "ticks": ""
            },
            "colorscale": [
             [
              0,
              "#0d0887"
             ],
             [
              0.1111111111111111,
              "#46039f"
             ],
             [
              0.2222222222222222,
              "#7201a8"
             ],
             [
              0.3333333333333333,
              "#9c179e"
             ],
             [
              0.4444444444444444,
              "#bd3786"
             ],
             [
              0.5555555555555556,
              "#d8576b"
             ],
             [
              0.6666666666666666,
              "#ed7953"
             ],
             [
              0.7777777777777778,
              "#fb9f3a"
             ],
             [
              0.8888888888888888,
              "#fdca26"
             ],
             [
              1,
              "#f0f921"
             ]
            ],
            "type": "heatmapgl"
           }
          ],
          "histogram": [
           {
            "marker": {
             "pattern": {
              "fillmode": "overlay",
              "size": 10,
              "solidity": 0.2
             }
            },
            "type": "histogram"
           }
          ],
          "histogram2d": [
           {
            "colorbar": {
             "outlinewidth": 0,
             "ticks": ""
            },
            "colorscale": [
             [
              0,
              "#0d0887"
             ],
             [
              0.1111111111111111,
              "#46039f"
             ],
             [
              0.2222222222222222,
              "#7201a8"
             ],
             [
              0.3333333333333333,
              "#9c179e"
             ],
             [
              0.4444444444444444,
              "#bd3786"
             ],
             [
              0.5555555555555556,
              "#d8576b"
             ],
             [
              0.6666666666666666,
              "#ed7953"
             ],
             [
              0.7777777777777778,
              "#fb9f3a"
             ],
             [
              0.8888888888888888,
              "#fdca26"
             ],
             [
              1,
              "#f0f921"
             ]
            ],
            "type": "histogram2d"
           }
          ],
          "histogram2dcontour": [
           {
            "colorbar": {
             "outlinewidth": 0,
             "ticks": ""
            },
            "colorscale": [
             [
              0,
              "#0d0887"
             ],
             [
              0.1111111111111111,
              "#46039f"
             ],
             [
              0.2222222222222222,
              "#7201a8"
             ],
             [
              0.3333333333333333,
              "#9c179e"
             ],
             [
              0.4444444444444444,
              "#bd3786"
             ],
             [
              0.5555555555555556,
              "#d8576b"
             ],
             [
              0.6666666666666666,
              "#ed7953"
             ],
             [
              0.7777777777777778,
              "#fb9f3a"
             ],
             [
              0.8888888888888888,
              "#fdca26"
             ],
             [
              1,
              "#f0f921"
             ]
            ],
            "type": "histogram2dcontour"
           }
          ],
          "mesh3d": [
           {
            "colorbar": {
             "outlinewidth": 0,
             "ticks": ""
            },
            "type": "mesh3d"
           }
          ],
          "parcoords": [
           {
            "line": {
             "colorbar": {
              "outlinewidth": 0,
              "ticks": ""
             }
            },
            "type": "parcoords"
           }
          ],
          "pie": [
           {
            "automargin": true,
            "type": "pie"
           }
          ],
          "scatter": [
           {
            "marker": {
             "colorbar": {
              "outlinewidth": 0,
              "ticks": ""
             }
            },
            "type": "scatter"
           }
          ],
          "scatter3d": [
           {
            "line": {
             "colorbar": {
              "outlinewidth": 0,
              "ticks": ""
             }
            },
            "marker": {
             "colorbar": {
              "outlinewidth": 0,
              "ticks": ""
             }
            },
            "type": "scatter3d"
           }
          ],
          "scattercarpet": [
           {
            "marker": {
             "colorbar": {
              "outlinewidth": 0,
              "ticks": ""
             }
            },
            "type": "scattercarpet"
           }
          ],
          "scattergeo": [
           {
            "marker": {
             "colorbar": {
              "outlinewidth": 0,
              "ticks": ""
             }
            },
            "type": "scattergeo"
           }
          ],
          "scattergl": [
           {
            "marker": {
             "colorbar": {
              "outlinewidth": 0,
              "ticks": ""
             }
            },
            "type": "scattergl"
           }
          ],
          "scattermapbox": [
           {
            "marker": {
             "colorbar": {
              "outlinewidth": 0,
              "ticks": ""
             }
            },
            "type": "scattermapbox"
           }
          ],
          "scatterpolar": [
           {
            "marker": {
             "colorbar": {
              "outlinewidth": 0,
              "ticks": ""
             }
            },
            "type": "scatterpolar"
           }
          ],
          "scatterpolargl": [
           {
            "marker": {
             "colorbar": {
              "outlinewidth": 0,
              "ticks": ""
             }
            },
            "type": "scatterpolargl"
           }
          ],
          "scatterternary": [
           {
            "marker": {
             "colorbar": {
              "outlinewidth": 0,
              "ticks": ""
             }
            },
            "type": "scatterternary"
           }
          ],
          "surface": [
           {
            "colorbar": {
             "outlinewidth": 0,
             "ticks": ""
            },
            "colorscale": [
             [
              0,
              "#0d0887"
             ],
             [
              0.1111111111111111,
              "#46039f"
             ],
             [
              0.2222222222222222,
              "#7201a8"
             ],
             [
              0.3333333333333333,
              "#9c179e"
             ],
             [
              0.4444444444444444,
              "#bd3786"
             ],
             [
              0.5555555555555556,
              "#d8576b"
             ],
             [
              0.6666666666666666,
              "#ed7953"
             ],
             [
              0.7777777777777778,
              "#fb9f3a"
             ],
             [
              0.8888888888888888,
              "#fdca26"
             ],
             [
              1,
              "#f0f921"
             ]
            ],
            "type": "surface"
           }
          ],
          "table": [
           {
            "cells": {
             "fill": {
              "color": "#EBF0F8"
             },
             "line": {
              "color": "white"
             }
            },
            "header": {
             "fill": {
              "color": "#C8D4E3"
             },
             "line": {
              "color": "white"
             }
            },
            "type": "table"
           }
          ]
         },
         "layout": {
          "annotationdefaults": {
           "arrowcolor": "#2a3f5f",
           "arrowhead": 0,
           "arrowwidth": 1
          },
          "autotypenumbers": "strict",
          "coloraxis": {
           "colorbar": {
            "outlinewidth": 0,
            "ticks": ""
           }
          },
          "colorscale": {
           "diverging": [
            [
             0,
             "#8e0152"
            ],
            [
             0.1,
             "#c51b7d"
            ],
            [
             0.2,
             "#de77ae"
            ],
            [
             0.3,
             "#f1b6da"
            ],
            [
             0.4,
             "#fde0ef"
            ],
            [
             0.5,
             "#f7f7f7"
            ],
            [
             0.6,
             "#e6f5d0"
            ],
            [
             0.7,
             "#b8e186"
            ],
            [
             0.8,
             "#7fbc41"
            ],
            [
             0.9,
             "#4d9221"
            ],
            [
             1,
             "#276419"
            ]
           ],
           "sequential": [
            [
             0,
             "#0d0887"
            ],
            [
             0.1111111111111111,
             "#46039f"
            ],
            [
             0.2222222222222222,
             "#7201a8"
            ],
            [
             0.3333333333333333,
             "#9c179e"
            ],
            [
             0.4444444444444444,
             "#bd3786"
            ],
            [
             0.5555555555555556,
             "#d8576b"
            ],
            [
             0.6666666666666666,
             "#ed7953"
            ],
            [
             0.7777777777777778,
             "#fb9f3a"
            ],
            [
             0.8888888888888888,
             "#fdca26"
            ],
            [
             1,
             "#f0f921"
            ]
           ],
           "sequentialminus": [
            [
             0,
             "#0d0887"
            ],
            [
             0.1111111111111111,
             "#46039f"
            ],
            [
             0.2222222222222222,
             "#7201a8"
            ],
            [
             0.3333333333333333,
             "#9c179e"
            ],
            [
             0.4444444444444444,
             "#bd3786"
            ],
            [
             0.5555555555555556,
             "#d8576b"
            ],
            [
             0.6666666666666666,
             "#ed7953"
            ],
            [
             0.7777777777777778,
             "#fb9f3a"
            ],
            [
             0.8888888888888888,
             "#fdca26"
            ],
            [
             1,
             "#f0f921"
            ]
           ]
          },
          "colorway": [
           "#636efa",
           "#EF553B",
           "#00cc96",
           "#ab63fa",
           "#FFA15A",
           "#19d3f3",
           "#FF6692",
           "#B6E880",
           "#FF97FF",
           "#FECB52"
          ],
          "font": {
           "color": "#2a3f5f"
          },
          "geo": {
           "bgcolor": "white",
           "lakecolor": "white",
           "landcolor": "#E5ECF6",
           "showlakes": true,
           "showland": true,
           "subunitcolor": "white"
          },
          "hoverlabel": {
           "align": "left"
          },
          "hovermode": "closest",
          "mapbox": {
           "style": "light"
          },
          "paper_bgcolor": "white",
          "plot_bgcolor": "#E5ECF6",
          "polar": {
           "angularaxis": {
            "gridcolor": "white",
            "linecolor": "white",
            "ticks": ""
           },
           "bgcolor": "#E5ECF6",
           "radialaxis": {
            "gridcolor": "white",
            "linecolor": "white",
            "ticks": ""
           }
          },
          "scene": {
           "xaxis": {
            "backgroundcolor": "#E5ECF6",
            "gridcolor": "white",
            "gridwidth": 2,
            "linecolor": "white",
            "showbackground": true,
            "ticks": "",
            "zerolinecolor": "white"
           },
           "yaxis": {
            "backgroundcolor": "#E5ECF6",
            "gridcolor": "white",
            "gridwidth": 2,
            "linecolor": "white",
            "showbackground": true,
            "ticks": "",
            "zerolinecolor": "white"
           },
           "zaxis": {
            "backgroundcolor": "#E5ECF6",
            "gridcolor": "white",
            "gridwidth": 2,
            "linecolor": "white",
            "showbackground": true,
            "ticks": "",
            "zerolinecolor": "white"
           }
          },
          "shapedefaults": {
           "line": {
            "color": "#2a3f5f"
           }
          },
          "ternary": {
           "aaxis": {
            "gridcolor": "white",
            "linecolor": "white",
            "ticks": ""
           },
           "baxis": {
            "gridcolor": "white",
            "linecolor": "white",
            "ticks": ""
           },
           "bgcolor": "#E5ECF6",
           "caxis": {
            "gridcolor": "white",
            "linecolor": "white",
            "ticks": ""
           }
          },
          "title": {
           "x": 0.05
          },
          "xaxis": {
           "automargin": true,
           "gridcolor": "white",
           "linecolor": "white",
           "ticks": "",
           "title": {
            "standoff": 15
           },
           "zerolinecolor": "white",
           "zerolinewidth": 2
          },
          "yaxis": {
           "automargin": true,
           "gridcolor": "white",
           "linecolor": "white",
           "ticks": "",
           "title": {
            "standoff": 15
           },
           "zerolinecolor": "white",
           "zerolinewidth": 2
          }
         }
        },
        "title": {
         "font": {
          "color": "#181818",
          "family": "Test Söhne, Sohne, Manrope, Inter, Arial",
          "size": 16
         },
         "text": "<span style=\"font-size: 18px; font-weight:600\">England</span><br><span style=\"font-family: Manrope, Sohne, Inter, Arial; font-size: 11px\">championship</span>",
         "x": 0,
         "xanchor": "left",
         "y": 0.95,
         "yanchor": "top"
        },
        "xaxis": {
         "anchor": "y",
         "autorange": true,
         "domain": [
          0,
          0.16799999999999998
         ],
         "gridcolor": "rgba(245,245,245,1)",
         "gridwidth": 1,
         "linecolor": "rgba(24,24,24,1)",
         "linewidth": 1,
         "mirror": false,
         "range": [
          -0.8795683776767566,
          2.5
         ],
         "showgrid": false,
         "showline": true,
         "tickangle": -90,
         "tickfont": {
          "size": 6
         },
         "title": {
          "text": "result type"
         },
         "type": "category"
        },
        "xaxis2": {
         "anchor": "y2",
         "autorange": true,
         "domain": [
          0.208,
          0.376
         ],
         "gridcolor": "rgba(245,245,245,1)",
         "gridwidth": 1,
         "linecolor": "rgba(24,24,24,1)",
         "linewidth": 1,
         "mirror": false,
         "range": [
          -0.9030402285620138,
          2.5
         ],
         "showgrid": false,
         "showline": true,
         "tickangle": -90,
         "tickfont": {
          "size": 6
         },
         "title": {
          "text": "shortest odds at closing"
         },
         "type": "category"
        },
        "xaxis3": {
         "anchor": "y3",
         "autorange": true,
         "domain": [
          0.416,
          0.584
         ],
         "gridcolor": "rgba(245,245,245,1)",
         "gridwidth": 1,
         "linecolor": "rgba(24,24,24,1)",
         "linewidth": 1,
         "mirror": false,
         "range": [
          -0.7318880011872666,
          2.5
         ],
         "showgrid": false,
         "showline": true,
         "tickangle": -90,
         "tickfont": {
          "size": 6
         },
         "title": {
          "text": "shortest odds ppt change"
         },
         "type": "category"
        },
        "xaxis4": {
         "anchor": "y4",
         "autorange": true,
         "domain": [
          0.624,
          0.792
         ],
         "gridcolor": "rgba(245,245,245,1)",
         "gridwidth": 1,
         "linecolor": "rgba(24,24,24,1)",
         "linewidth": 1,
         "mirror": false,
         "range": [
          -1.0451509107098171,
          8.651831161619077
         ],
         "showgrid": false,
         "showline": true,
         "tickangle": -90,
         "tickfont": {
          "size": 6
         },
         "title": {
          "text": "home (x) * away (y) goals"
         },
         "type": "linear"
        },
        "xaxis5": {
         "anchor": "y5",
         "autorange": true,
         "domain": [
          0.832,
          1
         ],
         "gridcolor": "rgba(245,245,245,1)",
         "gridwidth": 1,
         "linecolor": "rgba(24,24,24,1)",
         "linewidth": 1,
         "mirror": false,
         "range": [
          -2.0047429657873153,
          14.5
         ],
         "showgrid": false,
         "showline": true,
         "tickangle": -90,
         "tickfont": {
          "size": 6
         },
         "title": {
          "text": "bookmakers"
         },
         "type": "category"
        },
        "xaxis6": {
         "anchor": "y6",
         "autorange": true,
         "domain": [
          0,
          1
         ],
         "gridcolor": "rgba(245,245,245,1)",
         "gridwidth": 1,
         "linecolor": "rgba(24,24,24,1)",
         "linewidth": 1,
         "mirror": false,
         "range": [
          1.51506978386557,
          3.65
         ],
         "showgrid": false,
         "showline": true,
         "tickangle": -90,
         "tickfont": {
          "size": 6
         },
         "title": {
          "text": "winning odds (rounded, top 20)"
         },
         "type": "linear"
        },
        "yaxis": {
         "anchor": "x",
         "autorange": true,
         "domain": [
          0.575,
          1
         ],
         "gridcolor": "rgba(245,245,245,1)",
         "gridwidth": 1,
         "linecolor": "rgba(24,24,24,1)",
         "linewidth": 1,
         "mirror": false,
         "range": [
          0,
          149233.68421052632
         ],
         "showgrid": true,
         "showline": false,
         "tickfont": {
          "size": 6
         },
         "ticklabelposition": "inside top",
         "title": {},
         "type": "linear"
        },
        "yaxis2": {
         "anchor": "x2",
         "autorange": true,
         "domain": [
          0.575,
          1
         ],
         "gridcolor": "rgba(245,245,245,1)",
         "gridwidth": 1,
         "linecolor": "rgba(24,24,24,1)",
         "linewidth": 1,
         "mirror": false,
         "range": [
          0,
          257995.7894736842
         ],
         "showgrid": true,
         "showline": false,
         "tickfont": {
          "size": 6
         },
         "ticklabelposition": "inside top",
         "title": {},
         "type": "linear"
        },
        "yaxis3": {
         "anchor": "x3",
         "autorange": true,
         "domain": [
          0.575,
          1
         ],
         "gridcolor": "rgba(245,245,245,1)",
         "gridwidth": 1,
         "linecolor": "rgba(24,24,24,1)",
         "linewidth": 1,
         "mirror": false,
         "range": [
          -1.3266666666666667,
          1.4066666666666667
         ],
         "showgrid": true,
         "showline": false,
         "tickfont": {
          "size": 6
         },
         "ticklabelposition": "inside top",
         "title": {},
         "type": "linear"
        },
        "yaxis4": {
         "anchor": "x4",
         "autorange": true,
         "domain": [
          0.575,
          1
         ],
         "gridcolor": "rgba(245,245,245,1)",
         "gridwidth": 1,
         "linecolor": "rgba(24,24,24,1)",
         "linewidth": 1,
         "mirror": false,
         "range": [
          -0.9694371171778307,
          8.652618954601046
         ],
         "showgrid": true,
         "showline": false,
         "tickfont": {
          "size": 6
         },
         "ticklabelposition": "inside top",
         "title": {},
         "type": "linear"
        },
        "yaxis5": {
         "anchor": "x5",
         "autorange": true,
         "domain": [
          0.575,
          1
         ],
         "gridcolor": "rgba(245,245,245,1)",
         "gridwidth": 1,
         "linecolor": "rgba(24,24,24,1)",
         "linewidth": 1,
         "mirror": false,
         "range": [
          0,
          11024.21052631579
         ],
         "showgrid": true,
         "showline": false,
         "tickfont": {
          "size": 6
         },
         "ticklabelposition": "inside top",
         "title": {},
         "type": "linear"
        },
        "yaxis6": {
         "anchor": "x6",
         "autorange": true,
         "domain": [
          0,
          0.425
         ],
         "gridcolor": "rgba(245,245,245,1)",
         "gridwidth": 1,
         "linecolor": "rgba(24,24,24,1)",
         "linewidth": 1,
         "mirror": false,
         "range": [
          0,
          26883.157894736843
         ],
         "showgrid": true,
         "showline": false,
         "tickfont": {
          "size": 6
         },
         "ticklabelposition": "inside top",
         "title": {},
         "type": "linear"
        }
       }
      },
      "image/png": "[encoded data removed]",
      "text/html": [
       "<div>                            <div id=\"4e2ab3c8-aec8-4c24-b674-215f012b4754\" class=\"plotly-graph-div\" style=\"height:500px; width:100%;\"></div>            <script type=\"text/javascript\">                require([\"plotly\"], function(Plotly) {                    window.PLOTLYENV=window.PLOTLYENV || {};                                    if (document.getElementById(\"4e2ab3c8-aec8-4c24-b674-215f012b4754\")) {                    Plotly.newPlot(                        \"4e2ab3c8-aec8-4c24-b674-215f012b4754\",                        [{\"hovertemplate\":\"%{x}: %{y}<extra></extra>\",\"marker\":{\"color\":[\"rgba(0, 100, 0, 1)\",\"rgba(255, 0, 0, 1)\",\"rgba(249, 180, 45, 1)\"]},\"type\":\"bar\",\"x\":[\"home\",\"away\",\"draw\"],\"xaxis\":\"x\",\"y\":[141772,97926,89678],\"yaxis\":\"y\"},{\"hovertemplate\":\"%{x}: %{y}<extra></extra>\",\"marker\":{\"color\":[\"rgba(0, 100, 0, 1)\",\"rgba(255, 0, 0, 1)\",\"rgba(249, 180, 45, 1)\"]},\"type\":\"bar\",\"x\":[\"home\",\"away\",\"draw\"],\"xaxis\":\"x2\",\"y\":[245096,80032,112],\"yaxis\":\"y2\"},{\"hovertemplate\":\"%{x}: %{y}<extra></extra>\",\"marker\":{\"color\":[\"rgba(0, 100, 0, 1)\",\"rgba(255, 0, 0, 1)\",\"rgba(249, 180, 45, 1)\"]},\"type\":\"bar\",\"x\":[\"home\",\"away\",\"draw\"],\"xaxis\":\"x3\",\"y\":[-1.19,1.27,-0.08],\"yaxis\":\"y3\"},{\"hoverinfo\":\"text\",\"hovertext\":[\"1, 1: 42400\",\"1, 0: 34883\",\"2, 1: 30503\",\"0, 1: 28827\",\"0, 0: 26096\",\"2, 0: 25475\",\"1, 2: 23965\",\"2, 2: 17692\",\"0, 2: 15727\",\"3, 0: 13401\",\"3, 1: 11602\",\"3, 2: 8484\",\"1, 3: 8419\",\"0, 3: 6354\",\"2, 3: 6065\",\"4, 1: 4412\",\"4, 0: 4403\",\"3, 3: 3144\",\"1, 4: 2490\",\"4, 2: 2186\",\"0, 4: 1807\",\"2, 4: 1597\",\"5, 0: 1531\",\"5, 1: 1296\",\"4, 3: 888\",\"5, 2: 734\",\"3, 4: 731\",\"1, 5: 597\",\"6, 1: 532\",\"6, 0: 460\",\"0, 5: 400\",\"5, 3: 321\",\"2, 5: 310\",\"4, 4: 264\",\"0, 6: 164\",\"7, 0: 159\",\"6, 2: 156\",\"7, 1: 144\",\"3, 5: 107\",\"0, 7: 98\",\"1, 6: 93\",\"4, 5: 85\",\"7, 2: 83\",\"5, 5: 82\",\"5, 4: 64\",\"8, 0: 46\",\"0, 8: 36\",\"3, 7: 29\",\"4, 6: 25\",\"6, 3: 9\"],\"marker\":{\"color\":\"rgb(23,45,187)\",\"size\":[14.349655146369894,13.666378888488923,13.215562066350058,13.030163405037262,12.709939576979481,12.633641478019062,12.442119217396494,11.533051535363157,11.19854170454917,10.759307054334327,10.37846715606057,9.597324185279751,9.57888870639958,8.928156670529395,8.824857499685201,8.150023780435395,8.145864306794975,7.48808273695642,7.063986112634891,6.837739312831679,6.519879033668076,6.321588598238276,6.25523741300262,6.0,5.458876152790305,5.205039324374805,5.199712652559904,4.9430338301230785,4.802616494093776,4.631156506697567,4.47213595499958,4.232785473794877,4.19604776684668,4.030890324639449,3.5785819083633807,3.5509886247238938,3.5341188430493955,3.4641016151377544,3.216221452697031,3.1463462836457885,3.1054227990714813,3.036370276710811,3.018349479292333,3.009216698434564,2.8284271247461903,2.604290687140218,2.449489742783178,2.320595787106084,2.23606797749979,1.7320508075688772]},\"mode\":\"markers\",\"type\":\"scatter\",\"x\":[1.0,1.0,2.0,0.0,0.0,2.0,1.0,2.0,0.0,3.0,3.0,3.0,1.0,0.0,2.0,4.0,4.0,3.0,1.0,4.0,0.0,2.0,5.0,5.0,4.0,5.0,3.0,1.0,6.0,6.0,0.0,5.0,2.0,4.0,0.0,7.0,6.0,7.0,3.0,0.0,1.0,4.0,7.0,5.0,5.0,8.0,0.0,3.0,4.0,6.0],\"xaxis\":\"x4\",\"y\":[1.0,0.0,1.0,1.0,0.0,0.0,2.0,2.0,2.0,0.0,1.0,2.0,3.0,3.0,3.0,1.0,0.0,3.0,4.0,2.0,4.0,4.0,0.0,1.0,3.0,2.0,4.0,5.0,1.0,0.0,5.0,3.0,5.0,4.0,6.0,0.0,2.0,1.0,5.0,7.0,6.0,5.0,2.0,5.0,4.0,0.0,8.0,7.0,6.0,3.0],\"yaxis\":\"y4\"},{\"hovertemplate\":\"%{x}: %{y}<extra></extra>\",\"marker\":{\"color\":[\"rgb(23,45,187)\",\"rgb(23,45,187)\",\"rgb(23,45,187)\",\"rgb(23,45,187)\",\"rgb(23,45,187)\",\"rgb(23,45,187)\",\"rgb(23,45,187)\",\"rgb(23,45,187)\",\"rgb(23,45,187)\",\"rgb(23,45,187)\",\"rgb(23,45,187)\",\"rgb(23,45,187)\",\"rgb(23,45,187)\",\"rgb(23,45,187)\",\"rgb(23,45,187)\"]},\"type\":\"bar\",\"x\":[\"iFortuna.cz\",\"Tipsport.cz\",\"Chance.cz\",\"William Hill\",\"eFortuna.pl\",\"BetVictor\",\"bet-at-home\",\"bwin\",\"bet365\",\"NordicBet\",\"Pinnacle\",\"iFortuna.sk\",\"10Bet\",\"Betfred\",\"Betsafe\"],\"xaxis\":\"x5\",\"y\":[10473,10460,10449,10427,10235,10199,10045,9815,9799,9733,9628,9622,9549,9385,9146],\"yaxis\":\"y5\"},{\"hovertemplate\":\"%{x}: %{y}<extra></extra>\",\"marker\":{\"color\":[\"rgb(23,45,187)\",\"rgb(23,45,187)\",\"rgb(23,45,187)\",\"rgb(23,45,187)\",\"rgb(23,45,187)\",\"rgb(23,45,187)\",\"rgb(23,45,187)\",\"rgb(23,45,187)\",\"rgb(23,45,187)\",\"rgb(23,45,187)\",\"rgb(23,45,187)\",\"rgb(23,45,187)\",\"rgb(23,45,187)\",\"rgb(23,45,187)\",\"rgb(23,45,187)\",\"rgb(23,45,187)\",\"rgb(23,45,187)\",\"rgb(23,45,187)\",\"rgb(23,45,187)\",\"rgb(23,45,187)\"]},\"type\":\"bar\",\"x\":[3.2,3.1,3.4,1.9,3.0,2.2,3.5,2.5,3.3,1.8,2.1,2.4,2.0,1.6,1.7,2.6,2.8,2.3,2.9,3.6],\"xaxis\":\"x6\",\"y\":[25539,16849,16778,16559,14698,14438,14395,14364,14055,14045,13679,13512,13482,12801,10380,10158,9300,9130,9111,8388],\"yaxis\":\"y6\"}],                        {\"font\":{\"color\":\"rgba(24,24,24,1)\",\"family\":\"Manrope, Sohne, Inter, Arial\",\"size\":8},\"height\":500,\"legend\":{\"font\":{\"color\":\"#181818\",\"size\":10},\"orientation\":\"h\",\"x\":1,\"xanchor\":\"right\",\"y\":1,\"yanchor\":\"bottom\"},\"margin\":{\"b\":0,\"l\":0,\"r\":0,\"t\":70},\"paper_bgcolor\":\"rgba(255,255,255,0)\",\"plot_bgcolor\":\"rgba(255,255,255,0)\",\"showlegend\":false,\"template\":{\"data\":{\"bar\":[{\"error_x\":{\"color\":\"#2a3f5f\"},\"error_y\":{\"color\":\"#2a3f5f\"},\"marker\":{\"line\":{\"color\":\"#E5ECF6\",\"width\":0.5},\"pattern\":{\"fillmode\":\"overlay\",\"size\":10,\"solidity\":0.2}},\"type\":\"bar\"}],\"barpolar\":[{\"marker\":{\"line\":{\"color\":\"#E5ECF6\",\"width\":0.5},\"pattern\":{\"fillmode\":\"overlay\",\"size\":10,\"solidity\":0.2}},\"type\":\"barpolar\"}],\"carpet\":[{\"aaxis\":{\"endlinecolor\":\"#2a3f5f\",\"gridcolor\":\"white\",\"linecolor\":\"white\",\"minorgridcolor\":\"white\",\"startlinecolor\":\"#2a3f5f\"},\"baxis\":{\"endlinecolor\":\"#2a3f5f\",\"gridcolor\":\"white\",\"linecolor\":\"white\",\"minorgridcolor\":\"white\",\"startlinecolor\":\"#2a3f5f\"},\"type\":\"carpet\"}],\"choropleth\":[{\"colorbar\":{\"outlinewidth\":0,\"ticks\":\"\"},\"type\":\"choropleth\"}],\"contour\":[{\"colorbar\":{\"outlinewidth\":0,\"ticks\":\"\"},\"colorscale\":[[0.0,\"#0d0887\"],[0.1111111111111111,\"#46039f\"],[0.2222222222222222,\"#7201a8\"],[0.3333333333333333,\"#9c179e\"],[0.4444444444444444,\"#bd3786\"],[0.5555555555555556,\"#d8576b\"],[0.6666666666666666,\"#ed7953\"],[0.7777777777777778,\"#fb9f3a\"],[0.8888888888888888,\"#fdca26\"],[1.0,\"#f0f921\"]],\"type\":\"contour\"}],\"contourcarpet\":[{\"colorbar\":{\"outlinewidth\":0,\"ticks\":\"\"},\"type\":\"contourcarpet\"}],\"heatmap\":[{\"colorbar\":{\"outlinewidth\":0,\"ticks\":\"\"},\"colorscale\":[[0.0,\"#0d0887\"],[0.1111111111111111,\"#46039f\"],[0.2222222222222222,\"#7201a8\"],[0.3333333333333333,\"#9c179e\"],[0.4444444444444444,\"#bd3786\"],[0.5555555555555556,\"#d8576b\"],[0.6666666666666666,\"#ed7953\"],[0.7777777777777778,\"#fb9f3a\"],[0.8888888888888888,\"#fdca26\"],[1.0,\"#f0f921\"]],\"type\":\"heatmap\"}],\"heatmapgl\":[{\"colorbar\":{\"outlinewidth\":0,\"ticks\":\"\"},\"colorscale\":[[0.0,\"#0d0887\"],[0.1111111111111111,\"#46039f\"],[0.2222222222222222,\"#7201a8\"],[0.3333333333333333,\"#9c179e\"],[0.4444444444444444,\"#bd3786\"],[0.5555555555555556,\"#d8576b\"],[0.6666666666666666,\"#ed7953\"],[0.7777777777777778,\"#fb9f3a\"],[0.8888888888888888,\"#fdca26\"],[1.0,\"#f0f921\"]],\"type\":\"heatmapgl\"}],\"histogram\":[{\"marker\":{\"pattern\":{\"fillmode\":\"overlay\",\"size\":10,\"solidity\":0.2}},\"type\":\"histogram\"}],\"histogram2d\":[{\"colorbar\":{\"outlinewidth\":0,\"ticks\":\"\"},\"colorscale\":[[0.0,\"#0d0887\"],[0.1111111111111111,\"#46039f\"],[0.2222222222222222,\"#7201a8\"],[0.3333333333333333,\"#9c179e\"],[0.4444444444444444,\"#bd3786\"],[0.5555555555555556,\"#d8576b\"],[0.6666666666666666,\"#ed7953\"],[0.7777777777777778,\"#fb9f3a\"],[0.8888888888888888,\"#fdca26\"],[1.0,\"#f0f921\"]],\"type\":\"histogram2d\"}],\"histogram2dcontour\":[{\"colorbar\":{\"outlinewidth\":0,\"ticks\":\"\"},\"colorscale\":[[0.0,\"#0d0887\"],[0.1111111111111111,\"#46039f\"],[0.2222222222222222,\"#7201a8\"],[0.3333333333333333,\"#9c179e\"],[0.4444444444444444,\"#bd3786\"],[0.5555555555555556,\"#d8576b\"],[0.6666666666666666,\"#ed7953\"],[0.7777777777777778,\"#fb9f3a\"],[0.8888888888888888,\"#fdca26\"],[1.0,\"#f0f921\"]],\"type\":\"histogram2dcontour\"}],\"mesh3d\":[{\"colorbar\":{\"outlinewidth\":0,\"ticks\":\"\"},\"type\":\"mesh3d\"}],\"parcoords\":[{\"line\":{\"colorbar\":{\"outlinewidth\":0,\"ticks\":\"\"}},\"type\":\"parcoords\"}],\"pie\":[{\"automargin\":true,\"type\":\"pie\"}],\"scatter\":[{\"marker\":{\"colorbar\":{\"outlinewidth\":0,\"ticks\":\"\"}},\"type\":\"scatter\"}],\"scatter3d\":[{\"line\":{\"colorbar\":{\"outlinewidth\":0,\"ticks\":\"\"}},\"marker\":{\"colorbar\":{\"outlinewidth\":0,\"ticks\":\"\"}},\"type\":\"scatter3d\"}],\"scattercarpet\":[{\"marker\":{\"colorbar\":{\"outlinewidth\":0,\"ticks\":\"\"}},\"type\":\"scattercarpet\"}],\"scattergeo\":[{\"marker\":{\"colorbar\":{\"outlinewidth\":0,\"ticks\":\"\"}},\"type\":\"scattergeo\"}],\"scattergl\":[{\"marker\":{\"colorbar\":{\"outlinewidth\":0,\"ticks\":\"\"}},\"type\":\"scattergl\"}],\"scattermapbox\":[{\"marker\":{\"colorbar\":{\"outlinewidth\":0,\"ticks\":\"\"}},\"type\":\"scattermapbox\"}],\"scatterpolar\":[{\"marker\":{\"colorbar\":{\"outlinewidth\":0,\"ticks\":\"\"}},\"type\":\"scatterpolar\"}],\"scatterpolargl\":[{\"marker\":{\"colorbar\":{\"outlinewidth\":0,\"ticks\":\"\"}},\"type\":\"scatterpolargl\"}],\"scatterternary\":[{\"marker\":{\"colorbar\":{\"outlinewidth\":0,\"ticks\":\"\"}},\"type\":\"scatterternary\"}],\"surface\":[{\"colorbar\":{\"outlinewidth\":0,\"ticks\":\"\"},\"colorscale\":[[0.0,\"#0d0887\"],[0.1111111111111111,\"#46039f\"],[0.2222222222222222,\"#7201a8\"],[0.3333333333333333,\"#9c179e\"],[0.4444444444444444,\"#bd3786\"],[0.5555555555555556,\"#d8576b\"],[0.6666666666666666,\"#ed7953\"],[0.7777777777777778,\"#fb9f3a\"],[0.8888888888888888,\"#fdca26\"],[1.0,\"#f0f921\"]],\"type\":\"surface\"}],\"table\":[{\"cells\":{\"fill\":{\"color\":\"#EBF0F8\"},\"line\":{\"color\":\"white\"}},\"header\":{\"fill\":{\"color\":\"#C8D4E3\"},\"line\":{\"color\":\"white\"}},\"type\":\"table\"}]},\"layout\":{\"annotationdefaults\":{\"arrowcolor\":\"#2a3f5f\",\"arrowhead\":0,\"arrowwidth\":1},\"autotypenumbers\":\"strict\",\"coloraxis\":{\"colorbar\":{\"outlinewidth\":0,\"ticks\":\"\"}},\"colorscale\":{\"diverging\":[[0,\"#8e0152\"],[0.1,\"#c51b7d\"],[0.2,\"#de77ae\"],[0.3,\"#f1b6da\"],[0.4,\"#fde0ef\"],[0.5,\"#f7f7f7\"],[0.6,\"#e6f5d0\"],[0.7,\"#b8e186\"],[0.8,\"#7fbc41\"],[0.9,\"#4d9221\"],[1,\"#276419\"]],\"sequential\":[[0.0,\"#0d0887\"],[0.1111111111111111,\"#46039f\"],[0.2222222222222222,\"#7201a8\"],[0.3333333333333333,\"#9c179e\"],[0.4444444444444444,\"#bd3786\"],[0.5555555555555556,\"#d8576b\"],[0.6666666666666666,\"#ed7953\"],[0.7777777777777778,\"#fb9f3a\"],[0.8888888888888888,\"#fdca26\"],[1.0,\"#f0f921\"]],\"sequentialminus\":[[0.0,\"#0d0887\"],[0.1111111111111111,\"#46039f\"],[0.2222222222222222,\"#7201a8\"],[0.3333333333333333,\"#9c179e\"],[0.4444444444444444,\"#bd3786\"],[0.5555555555555556,\"#d8576b\"],[0.6666666666666666,\"#ed7953\"],[0.7777777777777778,\"#fb9f3a\"],[0.8888888888888888,\"#fdca26\"],[1.0,\"#f0f921\"]]},\"colorway\":[\"#636efa\",\"#EF553B\",\"#00cc96\",\"#ab63fa\",\"#FFA15A\",\"#19d3f3\",\"#FF6692\",\"#B6E880\",\"#FF97FF\",\"#FECB52\"],\"font\":{\"color\":\"#2a3f5f\"},\"geo\":{\"bgcolor\":\"white\",\"lakecolor\":\"white\",\"landcolor\":\"#E5ECF6\",\"showlakes\":true,\"showland\":true,\"subunitcolor\":\"white\"},\"hoverlabel\":{\"align\":\"left\"},\"hovermode\":\"closest\",\"mapbox\":{\"style\":\"light\"},\"paper_bgcolor\":\"white\",\"plot_bgcolor\":\"#E5ECF6\",\"polar\":{\"angularaxis\":{\"gridcolor\":\"white\",\"linecolor\":\"white\",\"ticks\":\"\"},\"bgcolor\":\"#E5ECF6\",\"radialaxis\":{\"gridcolor\":\"white\",\"linecolor\":\"white\",\"ticks\":\"\"}},\"scene\":{\"xaxis\":{\"backgroundcolor\":\"#E5ECF6\",\"gridcolor\":\"white\",\"gridwidth\":2,\"linecolor\":\"white\",\"showbackground\":true,\"ticks\":\"\",\"zerolinecolor\":\"white\"},\"yaxis\":{\"backgroundcolor\":\"#E5ECF6\",\"gridcolor\":\"white\",\"gridwidth\":2,\"linecolor\":\"white\",\"showbackground\":true,\"ticks\":\"\",\"zerolinecolor\":\"white\"},\"zaxis\":{\"backgroundcolor\":\"#E5ECF6\",\"gridcolor\":\"white\",\"gridwidth\":2,\"linecolor\":\"white\",\"showbackground\":true,\"ticks\":\"\",\"zerolinecolor\":\"white\"}},\"shapedefaults\":{\"line\":{\"color\":\"#2a3f5f\"}},\"ternary\":{\"aaxis\":{\"gridcolor\":\"white\",\"linecolor\":\"white\",\"ticks\":\"\"},\"baxis\":{\"gridcolor\":\"white\",\"linecolor\":\"white\",\"ticks\":\"\"},\"bgcolor\":\"#E5ECF6\",\"caxis\":{\"gridcolor\":\"white\",\"linecolor\":\"white\",\"ticks\":\"\"}},\"title\":{\"x\":0.05},\"xaxis\":{\"automargin\":true,\"gridcolor\":\"white\",\"linecolor\":\"white\",\"ticks\":\"\",\"title\":{\"standoff\":15},\"zerolinecolor\":\"white\",\"zerolinewidth\":2},\"yaxis\":{\"automargin\":true,\"gridcolor\":\"white\",\"linecolor\":\"white\",\"ticks\":\"\",\"title\":{\"standoff\":15},\"zerolinecolor\":\"white\",\"zerolinewidth\":2}}},\"title\":{\"font\":{\"color\":\"#181818\",\"family\":\"Test S\\u00f6hne, Sohne, Manrope, Inter, Arial\",\"size\":16},\"text\":\"<span style=\\\"font-size: 18px; font-weight:600\\\">England</span><br><span style=\\\"font-family: Manrope, Sohne, Inter, Arial; font-size: 11px\\\">championship</span>\",\"x\":0,\"xanchor\":\"left\",\"y\":0.95,\"yanchor\":\"top\"},\"xaxis\":{\"anchor\":\"y\",\"domain\":[0.0,0.16799999999999998],\"gridcolor\":\"rgba(245,245,245,1)\",\"gridwidth\":1,\"linecolor\":\"rgba(24,24,24,1)\",\"linewidth\":1,\"mirror\":false,\"showgrid\":false,\"showline\":true,\"tickangle\":-90,\"tickfont\":{\"size\":6},\"title\":{\"text\":\"result type\"}},\"xaxis2\":{\"anchor\":\"y2\",\"domain\":[0.208,0.376],\"gridcolor\":\"rgba(245,245,245,1)\",\"gridwidth\":1,\"linecolor\":\"rgba(24,24,24,1)\",\"linewidth\":1,\"mirror\":false,\"showgrid\":false,\"showline\":true,\"tickangle\":-90,\"tickfont\":{\"size\":6},\"title\":{\"text\":\"shortest odds at closing\"}},\"xaxis3\":{\"anchor\":\"y3\",\"domain\":[0.416,0.584],\"gridcolor\":\"rgba(245,245,245,1)\",\"gridwidth\":1,\"linecolor\":\"rgba(24,24,24,1)\",\"linewidth\":1,\"mirror\":false,\"showgrid\":false,\"showline\":true,\"tickangle\":-90,\"tickfont\":{\"size\":6},\"title\":{\"text\":\"shortest odds ppt change\"}},\"xaxis4\":{\"anchor\":\"y4\",\"domain\":[0.624,0.792],\"gridcolor\":\"rgba(245,245,245,1)\",\"gridwidth\":1,\"linecolor\":\"rgba(24,24,24,1)\",\"linewidth\":1,\"mirror\":false,\"showgrid\":false,\"showline\":true,\"tickangle\":-90,\"tickfont\":{\"size\":6},\"title\":{\"text\":\"home (x) * away (y) goals\"}},\"xaxis5\":{\"anchor\":\"y5\",\"domain\":[0.832,1.0],\"gridcolor\":\"rgba(245,245,245,1)\",\"gridwidth\":1,\"linecolor\":\"rgba(24,24,24,1)\",\"linewidth\":1,\"mirror\":false,\"showgrid\":false,\"showline\":true,\"tickangle\":-90,\"tickfont\":{\"size\":6},\"title\":{\"text\":\"bookmakers\"}},\"xaxis6\":{\"anchor\":\"y6\",\"domain\":[0.0,1.0],\"gridcolor\":\"rgba(245,245,245,1)\",\"gridwidth\":1,\"linecolor\":\"rgba(24,24,24,1)\",\"linewidth\":1,\"mirror\":false,\"showgrid\":false,\"showline\":true,\"tickangle\":-90,\"tickfont\":{\"size\":6},\"title\":{\"text\":\"winning odds (rounded, top 20)\"}},\"yaxis\":{\"anchor\":\"x\",\"domain\":[0.575,1.0],\"gridcolor\":\"rgba(245,245,245,1)\",\"gridwidth\":1,\"linecolor\":\"rgba(24,24,24,1)\",\"linewidth\":1,\"mirror\":false,\"showgrid\":true,\"showline\":false,\"tickfont\":{\"size\":6},\"ticklabelposition\":\"inside top\",\"title\":{}},\"yaxis2\":{\"anchor\":\"x2\",\"domain\":[0.575,1.0],\"gridcolor\":\"rgba(245,245,245,1)\",\"gridwidth\":1,\"linecolor\":\"rgba(24,24,24,1)\",\"linewidth\":1,\"mirror\":false,\"showgrid\":true,\"showline\":false,\"tickfont\":{\"size\":6},\"ticklabelposition\":\"inside top\",\"title\":{}},\"yaxis3\":{\"anchor\":\"x3\",\"domain\":[0.575,1.0],\"gridcolor\":\"rgba(245,245,245,1)\",\"gridwidth\":1,\"linecolor\":\"rgba(24,24,24,1)\",\"linewidth\":1,\"mirror\":false,\"showgrid\":true,\"showline\":false,\"tickfont\":{\"size\":6},\"ticklabelposition\":\"inside top\",\"title\":{}},\"yaxis4\":{\"anchor\":\"x4\",\"domain\":[0.575,1.0],\"gridcolor\":\"rgba(245,245,245,1)\",\"gridwidth\":1,\"linecolor\":\"rgba(24,24,24,1)\",\"linewidth\":1,\"mirror\":false,\"showgrid\":true,\"showline\":false,\"tickfont\":{\"size\":6},\"ticklabelposition\":\"inside top\",\"title\":{}},\"yaxis5\":{\"anchor\":\"x5\",\"domain\":[0.575,1.0],\"gridcolor\":\"rgba(245,245,245,1)\",\"gridwidth\":1,\"linecolor\":\"rgba(24,24,24,1)\",\"linewidth\":1,\"mirror\":false,\"showgrid\":true,\"showline\":false,\"tickfont\":{\"size\":6},\"ticklabelposition\":\"inside top\",\"title\":{}},\"yaxis6\":{\"anchor\":\"x6\",\"domain\":[0.0,0.425],\"gridcolor\":\"rgba(245,245,245,1)\",\"gridwidth\":1,\"linecolor\":\"rgba(24,24,24,1)\",\"linewidth\":1,\"mirror\":false,\"showgrid\":true,\"showline\":false,\"tickfont\":{\"size\":6},\"ticklabelposition\":\"inside top\",\"title\":{}}},                        {\"responsive\": true}                    ).then(function(){\n",
       "                            \n",
       "var gd = document.getElementById('4e2ab3c8-aec8-4c24-b674-215f012b4754');\n",
       "var x = new MutationObserver(function (mutations, observer) {{\n",
       "        var display = window.getComputedStyle(gd).display;\n",
       "        if (!display || display === 'none') {{\n",
       "            console.log([gd, 'removed!']);\n",
       "            Plotly.purge(gd);\n",
       "            observer.disconnect();\n",
       "        }}\n",
       "}});\n",
       "\n",
       "// Listen for the removal of the full notebook cells\n",
       "var notebookContainer = gd.closest('#notebook-container');\n",
       "if (notebookContainer) {{\n",
       "    x.observe(notebookContainer, {childList: true});\n",
       "}}\n",
       "\n",
       "// Listen for the clearing of the current output cell\n",
       "var outputEl = gd.closest('.output');\n",
       "if (outputEl) {{\n",
       "    x.observe(outputEl, {childList: true});\n",
       "}}\n",
       "\n",
       "                        })                };                });            </script>        </div>"
      ]
     },
     "metadata": {},
     "output_type": "display_data"
    }
   ],
   "source": [
    "makeSubplots('england', ['championship'])"
   ]
  },
  {
   "cell_type": "code",
   "execution_count": 62,
   "id": "38c9741f-1926-42dc-af2f-7b66a3aa7eb5",
   "metadata": {},
   "outputs": [
    {
     "name": "stdout",
     "output_type": "stream",
     "text": [
      "isthmian-league-prem  (99468, 37)\t(99468, 37)\n",
      "npl-premier-division  (100308, 37)\t(199776, 37)\n",
      "isthmian-league-prem  (99468, 37)\t(299244, 37)\n",
      "southern-league-sout  (32376, 37)\t(331620, 37)\n"
     ]
    },
    {
     "data": {
      "application/vnd.plotly.v1+json": {
       "config": {
        "plotlyServerURL": "https://plotly.com"
       },
       "data": [
        {
         "hovertemplate": "%{x}: %{y}<extra></extra>",
         "marker": {
          "color": [
           "rgba(0, 100, 0, 1)",
           "rgba(255, 0, 0, 1)",
           "rgba(249, 180, 45, 1)"
          ]
         },
         "type": "bar",
         "x": [
          "home",
          "away",
          "draw"
         ],
         "xaxis": "x",
         "y": [
          146216,
          112346,
          73058
         ],
         "yaxis": "y"
        },
        {
         "hovertemplate": "%{x}: %{y}<extra></extra>",
         "marker": {
          "color": [
           "rgba(0, 100, 0, 1)",
           "rgba(255, 0, 0, 1)",
           "rgba(249, 180, 45, 1)"
          ]
         },
         "type": "bar",
         "x": [
          "home",
          "away",
          "draw"
         ],
         "xaxis": "x2",
         "y": [
          221459,
          98736,
          60
         ],
         "yaxis": "y2"
        },
        {
         "hovertemplate": "%{x}: %{y}<extra></extra>",
         "marker": {
          "color": [
           "rgba(0, 100, 0, 1)",
           "rgba(255, 0, 0, 1)",
           "rgba(249, 180, 45, 1)"
          ]
         },
         "type": "bar",
         "x": [
          "home",
          "away",
          "draw"
         ],
         "xaxis": "x3",
         "y": [
          -1.33,
          1.54,
          -0.21
         ],
         "yaxis": "y3"
        },
        {
         "hoverinfo": "text",
         "hovertext": [
          "1, 1: 33066",
          "2, 1: 27733",
          "1, 0: 26727",
          "1, 2: 25108",
          "0, 1: 22979",
          "2, 0: 22839",
          "2, 2: 18061",
          "0, 2: 16291",
          "0, 0: 16234",
          "3, 1: 15517",
          "3, 0: 13530",
          "1, 3: 12267",
          "3, 2: 9873",
          "2, 3: 8502",
          "0, 3: 8307",
          "4, 1: 6882",
          "4, 0: 6204",
          "3, 3: 4734",
          "0, 4: 4214",
          "1, 4: 4171",
          "4, 2: 3886",
          "2, 4: 2800",
          "5, 0: 2653",
          "5, 1: 2453",
          "4, 3: 1873",
          "3, 4: 1851",
          "1, 5: 1402",
          "5, 2: 1398",
          "0, 5: 1386",
          "6, 0: 1306",
          "2, 5: 878",
          "4, 4: 849",
          "6, 1: 825",
          "7, 0: 604",
          "5, 3: 559",
          "0, 6: 528",
          "1, 6: 433",
          "3, 5: 303",
          "2, 6: 282",
          "7, 1: 259",
          "6, 2: 247",
          "5, 4: 246",
          "0, 7: 224",
          "6, 3: 144",
          "5, 5: 110",
          "1, 7: 109",
          "7, 2: 107",
          "8, 0: 98",
          "2, 7: 71",
          "4, 5: 67",
          "8, 1: 60",
          "9, 1: 58",
          "0, 8: 52",
          "9, 0: 51",
          "3, 6: 36",
          "4, 6: 36",
          "1, 10: 27",
          "7, 3: 27",
          "10, 3: 23",
          "3, 8: 22",
          "9, 3: 20",
          "6, 4: 14",
          "6, 6: 4"
         ],
         "marker": {
          "color": "rgb(23,45,187)",
          "size": [
           13.484828123795307,
           12.904738631732226,
           12.78608400432988,
           12.587892633090657,
           12.312118344154909,
           12.293322391943269,
           11.592722715190977,
           11.297619296165857,
           11.287724093945975,
           11.16096998082651,
           10.785106776882776,
           10.524090918072135,
           9.968097660540609,
           9.602410658676503,
           9.546870963084181,
           9.108118390086096,
           8.874991530703614,
           8.294821857464951,
           8.057004993697715,
           8.03637228915324,
           7.895428392559507,
           7.27427152512826,
           7.176857323279016,
           7.037596890143621,
           6.578614597068657,
           6.55921104467587,
           6.119092290013128,
           6.114723067456108,
           6.101558894083754,
           6.011540734219914,
           5.44344236490643,
           5.397925950646871,
           5.359366868641309,
           4.957460181876302,
           4.8624254066333785,
           4.79356345385686,
           4.561650145143182,
           4.172157138163567,
           4.097908689044531,
           4.011667600815287,
           3.9643705232359037,
           3.9603518961524267,
           3.8686728405353388,
           3.4641016151377544,
           3.238531840464366,
           3.23114631499574,
           3.216221452697031,
           3.1463462836457885,
           2.9027831081870996,
           2.861005552576305,
           2.7831576837137404,
           2.7596690210718946,
           2.68534961428265,
           2.6723451177837885,
           2.449489742783178,
           2.449489742783178,
           2.2795070569547775,
           2.2795070569547775,
           2.189938703094842,
           2.1657367706679937,
           2.114742526881128,
           1.9343364202676694,
           1.4142135623730951
          ]
         },
         "mode": "markers",
         "type": "scatter",
         "x": [
          1,
          2,
          1,
          1,
          0,
          2,
          2,
          0,
          0,
          3,
          3,
          1,
          3,
          2,
          0,
          4,
          4,
          3,
          0,
          1,
          4,
          2,
          5,
          5,
          4,
          3,
          1,
          5,
          0,
          6,
          2,
          4,
          6,
          7,
          5,
          0,
          1,
          3,
          2,
          7,
          6,
          5,
          0,
          6,
          5,
          1,
          7,
          8,
          2,
          4,
          8,
          9,
          0,
          9,
          3,
          4,
          1,
          7,
          10,
          3,
          9,
          6,
          6
         ],
         "xaxis": "x4",
         "y": [
          1,
          1,
          0,
          2,
          1,
          0,
          2,
          2,
          0,
          1,
          0,
          3,
          2,
          3,
          3,
          1,
          0,
          3,
          4,
          4,
          2,
          4,
          0,
          1,
          3,
          4,
          5,
          2,
          5,
          0,
          5,
          4,
          1,
          0,
          3,
          6,
          6,
          5,
          6,
          1,
          2,
          4,
          7,
          3,
          5,
          7,
          2,
          0,
          7,
          5,
          1,
          1,
          8,
          0,
          6,
          6,
          10,
          3,
          3,
          8,
          3,
          4,
          6
         ],
         "yaxis": "y4"
        },
        {
         "hovertemplate": "%{x}: %{y}<extra></extra>",
         "marker": {
          "color": [
           "rgb(23,45,187)",
           "rgb(23,45,187)",
           "rgb(23,45,187)",
           "rgb(23,45,187)",
           "rgb(23,45,187)",
           "rgb(23,45,187)",
           "rgb(23,45,187)",
           "rgb(23,45,187)",
           "rgb(23,45,187)",
           "rgb(23,45,187)",
           "rgb(23,45,187)",
           "rgb(23,45,187)",
           "rgb(23,45,187)",
           "rgb(23,45,187)",
           "rgb(23,45,187)"
          ]
         },
         "type": "bar",
         "x": [
          "bet-at-home",
          "bwin",
          "BetVictor",
          "Betfred",
          "Betsson",
          "10Bet",
          "Marathonbet",
          "Betsafe",
          "ComeOn",
          "Betway",
          "bet365",
          "1xBet",
          "Unibet",
          "888sport",
          "NordicBet"
         ],
         "xaxis": "x5",
         "y": [
          17606,
          17442,
          16121,
          15934,
          15274,
          14868,
          14577,
          14440,
          14036,
          12659,
          12606,
          11865,
          11795,
          11081,
          10749
         ],
         "yaxis": "y5"
        },
        {
         "hovertemplate": "%{x}: %{y}<extra></extra>",
         "marker": {
          "color": [
           "rgb(23,45,187)",
           "rgb(23,45,187)",
           "rgb(23,45,187)",
           "rgb(23,45,187)",
           "rgb(23,45,187)",
           "rgb(23,45,187)",
           "rgb(23,45,187)",
           "rgb(23,45,187)",
           "rgb(23,45,187)",
           "rgb(23,45,187)",
           "rgb(23,45,187)",
           "rgb(23,45,187)",
           "rgb(23,45,187)",
           "rgb(23,45,187)",
           "rgb(23,45,187)",
           "rgb(23,45,187)",
           "rgb(23,45,187)",
           "rgb(23,45,187)",
           "rgb(23,45,187)",
           "rgb(23,45,187)"
          ]
         },
         "type": "bar",
         "x": [
          3.5,
          2.2,
          2.4,
          1.6,
          3.6,
          2.5,
          1.9,
          2.1,
          2,
          1.8,
          3.8,
          1.7,
          1.4,
          2.6,
          2.3,
          1.5,
          3.4,
          2.8,
          4,
          3.7
         ],
         "xaxis": "x6",
         "y": [
          17916,
          17442,
          17261,
          16613,
          16192,
          16010,
          15735,
          15370,
          15249,
          14196,
          13884,
          13286,
          11352,
          11008,
          10167,
          9979,
          9361,
          7693,
          7125,
          6547
         ],
         "yaxis": "y6"
        }
       ],
       "layout": {
        "autosize": true,
        "font": {
         "color": "rgba(24,24,24,1)",
         "family": "Manrope, Sohne, Inter, Arial",
         "size": 8
        },
        "legend": {
         "font": {
          "color": "#181818",
          "size": 10
         },
         "orientation": "h",
         "x": 1,
         "xanchor": "right",
         "y": 1,
         "yanchor": "bottom"
        },
        "margin": {
         "b": 0,
         "l": 0,
         "r": 0,
         "t": 70
        },
        "paper_bgcolor": "rgba(255,255,255,0)",
        "plot_bgcolor": "rgba(255,255,255,0)",
        "showlegend": false,
        "template": {
         "data": {
          "bar": [
           {
            "error_x": {
             "color": "#2a3f5f"
            },
            "error_y": {
             "color": "#2a3f5f"
            },
            "marker": {
             "line": {
              "color": "#E5ECF6",
              "width": 0.5
             },
             "pattern": {
              "fillmode": "overlay",
              "size": 10,
              "solidity": 0.2
             }
            },
            "type": "bar"
           }
          ],
          "barpolar": [
           {
            "marker": {
             "line": {
              "color": "#E5ECF6",
              "width": 0.5
             },
             "pattern": {
              "fillmode": "overlay",
              "size": 10,
              "solidity": 0.2
             }
            },
            "type": "barpolar"
           }
          ],
          "carpet": [
           {
            "aaxis": {
             "endlinecolor": "#2a3f5f",
             "gridcolor": "white",
             "linecolor": "white",
             "minorgridcolor": "white",
             "startlinecolor": "#2a3f5f"
            },
            "baxis": {
             "endlinecolor": "#2a3f5f",
             "gridcolor": "white",
             "linecolor": "white",
             "minorgridcolor": "white",
             "startlinecolor": "#2a3f5f"
            },
            "type": "carpet"
           }
          ],
          "choropleth": [
           {
            "colorbar": {
             "outlinewidth": 0,
             "ticks": ""
            },
            "type": "choropleth"
           }
          ],
          "contour": [
           {
            "colorbar": {
             "outlinewidth": 0,
             "ticks": ""
            },
            "colorscale": [
             [
              0,
              "#0d0887"
             ],
             [
              0.1111111111111111,
              "#46039f"
             ],
             [
              0.2222222222222222,
              "#7201a8"
             ],
             [
              0.3333333333333333,
              "#9c179e"
             ],
             [
              0.4444444444444444,
              "#bd3786"
             ],
             [
              0.5555555555555556,
              "#d8576b"
             ],
             [
              0.6666666666666666,
              "#ed7953"
             ],
             [
              0.7777777777777778,
              "#fb9f3a"
             ],
             [
              0.8888888888888888,
              "#fdca26"
             ],
             [
              1,
              "#f0f921"
             ]
            ],
            "type": "contour"
           }
          ],
          "contourcarpet": [
           {
            "colorbar": {
             "outlinewidth": 0,
             "ticks": ""
            },
            "type": "contourcarpet"
           }
          ],
          "heatmap": [
           {
            "colorbar": {
             "outlinewidth": 0,
             "ticks": ""
            },
            "colorscale": [
             [
              0,
              "#0d0887"
             ],
             [
              0.1111111111111111,
              "#46039f"
             ],
             [
              0.2222222222222222,
              "#7201a8"
             ],
             [
              0.3333333333333333,
              "#9c179e"
             ],
             [
              0.4444444444444444,
              "#bd3786"
             ],
             [
              0.5555555555555556,
              "#d8576b"
             ],
             [
              0.6666666666666666,
              "#ed7953"
             ],
             [
              0.7777777777777778,
              "#fb9f3a"
             ],
             [
              0.8888888888888888,
              "#fdca26"
             ],
             [
              1,
              "#f0f921"
             ]
            ],
            "type": "heatmap"
           }
          ],
          "heatmapgl": [
           {
            "colorbar": {
             "outlinewidth": 0,
             "ticks": ""
            },
            "colorscale": [
             [
              0,
              "#0d0887"
             ],
             [
              0.1111111111111111,
              "#46039f"
             ],
             [
              0.2222222222222222,
              "#7201a8"
             ],
             [
              0.3333333333333333,
              "#9c179e"
             ],
             [
              0.4444444444444444,
              "#bd3786"
             ],
             [
              0.5555555555555556,
              "#d8576b"
             ],
             [
              0.6666666666666666,
              "#ed7953"
             ],
             [
              0.7777777777777778,
              "#fb9f3a"
             ],
             [
              0.8888888888888888,
              "#fdca26"
             ],
             [
              1,
              "#f0f921"
             ]
            ],
            "type": "heatmapgl"
           }
          ],
          "histogram": [
           {
            "marker": {
             "pattern": {
              "fillmode": "overlay",
              "size": 10,
              "solidity": 0.2
             }
            },
            "type": "histogram"
           }
          ],
          "histogram2d": [
           {
            "colorbar": {
             "outlinewidth": 0,
             "ticks": ""
            },
            "colorscale": [
             [
              0,
              "#0d0887"
             ],
             [
              0.1111111111111111,
              "#46039f"
             ],
             [
              0.2222222222222222,
              "#7201a8"
             ],
             [
              0.3333333333333333,
              "#9c179e"
             ],
             [
              0.4444444444444444,
              "#bd3786"
             ],
             [
              0.5555555555555556,
              "#d8576b"
             ],
             [
              0.6666666666666666,
              "#ed7953"
             ],
             [
              0.7777777777777778,
              "#fb9f3a"
             ],
             [
              0.8888888888888888,
              "#fdca26"
             ],
             [
              1,
              "#f0f921"
             ]
            ],
            "type": "histogram2d"
           }
          ],
          "histogram2dcontour": [
           {
            "colorbar": {
             "outlinewidth": 0,
             "ticks": ""
            },
            "colorscale": [
             [
              0,
              "#0d0887"
             ],
             [
              0.1111111111111111,
              "#46039f"
             ],
             [
              0.2222222222222222,
              "#7201a8"
             ],
             [
              0.3333333333333333,
              "#9c179e"
             ],
             [
              0.4444444444444444,
              "#bd3786"
             ],
             [
              0.5555555555555556,
              "#d8576b"
             ],
             [
              0.6666666666666666,
              "#ed7953"
             ],
             [
              0.7777777777777778,
              "#fb9f3a"
             ],
             [
              0.8888888888888888,
              "#fdca26"
             ],
             [
              1,
              "#f0f921"
             ]
            ],
            "type": "histogram2dcontour"
           }
          ],
          "mesh3d": [
           {
            "colorbar": {
             "outlinewidth": 0,
             "ticks": ""
            },
            "type": "mesh3d"
           }
          ],
          "parcoords": [
           {
            "line": {
             "colorbar": {
              "outlinewidth": 0,
              "ticks": ""
             }
            },
            "type": "parcoords"
           }
          ],
          "pie": [
           {
            "automargin": true,
            "type": "pie"
           }
          ],
          "scatter": [
           {
            "marker": {
             "colorbar": {
              "outlinewidth": 0,
              "ticks": ""
             }
            },
            "type": "scatter"
           }
          ],
          "scatter3d": [
           {
            "line": {
             "colorbar": {
              "outlinewidth": 0,
              "ticks": ""
             }
            },
            "marker": {
             "colorbar": {
              "outlinewidth": 0,
              "ticks": ""
             }
            },
            "type": "scatter3d"
           }
          ],
          "scattercarpet": [
           {
            "marker": {
             "colorbar": {
              "outlinewidth": 0,
              "ticks": ""
             }
            },
            "type": "scattercarpet"
           }
          ],
          "scattergeo": [
           {
            "marker": {
             "colorbar": {
              "outlinewidth": 0,
              "ticks": ""
             }
            },
            "type": "scattergeo"
           }
          ],
          "scattergl": [
           {
            "marker": {
             "colorbar": {
              "outlinewidth": 0,
              "ticks": ""
             }
            },
            "type": "scattergl"
           }
          ],
          "scattermapbox": [
           {
            "marker": {
             "colorbar": {
              "outlinewidth": 0,
              "ticks": ""
             }
            },
            "type": "scattermapbox"
           }
          ],
          "scatterpolar": [
           {
            "marker": {
             "colorbar": {
              "outlinewidth": 0,
              "ticks": ""
             }
            },
            "type": "scatterpolar"
           }
          ],
          "scatterpolargl": [
           {
            "marker": {
             "colorbar": {
              "outlinewidth": 0,
              "ticks": ""
             }
            },
            "type": "scatterpolargl"
           }
          ],
          "scatterternary": [
           {
            "marker": {
             "colorbar": {
              "outlinewidth": 0,
              "ticks": ""
             }
            },
            "type": "scatterternary"
           }
          ],
          "surface": [
           {
            "colorbar": {
             "outlinewidth": 0,
             "ticks": ""
            },
            "colorscale": [
             [
              0,
              "#0d0887"
             ],
             [
              0.1111111111111111,
              "#46039f"
             ],
             [
              0.2222222222222222,
              "#7201a8"
             ],
             [
              0.3333333333333333,
              "#9c179e"
             ],
             [
              0.4444444444444444,
              "#bd3786"
             ],
             [
              0.5555555555555556,
              "#d8576b"
             ],
             [
              0.6666666666666666,
              "#ed7953"
             ],
             [
              0.7777777777777778,
              "#fb9f3a"
             ],
             [
              0.8888888888888888,
              "#fdca26"
             ],
             [
              1,
              "#f0f921"
             ]
            ],
            "type": "surface"
           }
          ],
          "table": [
           {
            "cells": {
             "fill": {
              "color": "#EBF0F8"
             },
             "line": {
              "color": "white"
             }
            },
            "header": {
             "fill": {
              "color": "#C8D4E3"
             },
             "line": {
              "color": "white"
             }
            },
            "type": "table"
           }
          ]
         },
         "layout": {
          "annotationdefaults": {
           "arrowcolor": "#2a3f5f",
           "arrowhead": 0,
           "arrowwidth": 1
          },
          "autotypenumbers": "strict",
          "coloraxis": {
           "colorbar": {
            "outlinewidth": 0,
            "ticks": ""
           }
          },
          "colorscale": {
           "diverging": [
            [
             0,
             "#8e0152"
            ],
            [
             0.1,
             "#c51b7d"
            ],
            [
             0.2,
             "#de77ae"
            ],
            [
             0.3,
             "#f1b6da"
            ],
            [
             0.4,
             "#fde0ef"
            ],
            [
             0.5,
             "#f7f7f7"
            ],
            [
             0.6,
             "#e6f5d0"
            ],
            [
             0.7,
             "#b8e186"
            ],
            [
             0.8,
             "#7fbc41"
            ],
            [
             0.9,
             "#4d9221"
            ],
            [
             1,
             "#276419"
            ]
           ],
           "sequential": [
            [
             0,
             "#0d0887"
            ],
            [
             0.1111111111111111,
             "#46039f"
            ],
            [
             0.2222222222222222,
             "#7201a8"
            ],
            [
             0.3333333333333333,
             "#9c179e"
            ],
            [
             0.4444444444444444,
             "#bd3786"
            ],
            [
             0.5555555555555556,
             "#d8576b"
            ],
            [
             0.6666666666666666,
             "#ed7953"
            ],
            [
             0.7777777777777778,
             "#fb9f3a"
            ],
            [
             0.8888888888888888,
             "#fdca26"
            ],
            [
             1,
             "#f0f921"
            ]
           ],
           "sequentialminus": [
            [
             0,
             "#0d0887"
            ],
            [
             0.1111111111111111,
             "#46039f"
            ],
            [
             0.2222222222222222,
             "#7201a8"
            ],
            [
             0.3333333333333333,
             "#9c179e"
            ],
            [
             0.4444444444444444,
             "#bd3786"
            ],
            [
             0.5555555555555556,
             "#d8576b"
            ],
            [
             0.6666666666666666,
             "#ed7953"
            ],
            [
             0.7777777777777778,
             "#fb9f3a"
            ],
            [
             0.8888888888888888,
             "#fdca26"
            ],
            [
             1,
             "#f0f921"
            ]
           ]
          },
          "colorway": [
           "#636efa",
           "#EF553B",
           "#00cc96",
           "#ab63fa",
           "#FFA15A",
           "#19d3f3",
           "#FF6692",
           "#B6E880",
           "#FF97FF",
           "#FECB52"
          ],
          "font": {
           "color": "#2a3f5f"
          },
          "geo": {
           "bgcolor": "white",
           "lakecolor": "white",
           "landcolor": "#E5ECF6",
           "showlakes": true,
           "showland": true,
           "subunitcolor": "white"
          },
          "hoverlabel": {
           "align": "left"
          },
          "hovermode": "closest",
          "mapbox": {
           "style": "light"
          },
          "paper_bgcolor": "white",
          "plot_bgcolor": "#E5ECF6",
          "polar": {
           "angularaxis": {
            "gridcolor": "white",
            "linecolor": "white",
            "ticks": ""
           },
           "bgcolor": "#E5ECF6",
           "radialaxis": {
            "gridcolor": "white",
            "linecolor": "white",
            "ticks": ""
           }
          },
          "scene": {
           "xaxis": {
            "backgroundcolor": "#E5ECF6",
            "gridcolor": "white",
            "gridwidth": 2,
            "linecolor": "white",
            "showbackground": true,
            "ticks": "",
            "zerolinecolor": "white"
           },
           "yaxis": {
            "backgroundcolor": "#E5ECF6",
            "gridcolor": "white",
            "gridwidth": 2,
            "linecolor": "white",
            "showbackground": true,
            "ticks": "",
            "zerolinecolor": "white"
           },
           "zaxis": {
            "backgroundcolor": "#E5ECF6",
            "gridcolor": "white",
            "gridwidth": 2,
            "linecolor": "white",
            "showbackground": true,
            "ticks": "",
            "zerolinecolor": "white"
           }
          },
          "shapedefaults": {
           "line": {
            "color": "#2a3f5f"
           }
          },
          "ternary": {
           "aaxis": {
            "gridcolor": "white",
            "linecolor": "white",
            "ticks": ""
           },
           "baxis": {
            "gridcolor": "white",
            "linecolor": "white",
            "ticks": ""
           },
           "bgcolor": "#E5ECF6",
           "caxis": {
            "gridcolor": "white",
            "linecolor": "white",
            "ticks": ""
           }
          },
          "title": {
           "x": 0.05
          },
          "xaxis": {
           "automargin": true,
           "gridcolor": "white",
           "linecolor": "white",
           "ticks": "",
           "title": {
            "standoff": 15
           },
           "zerolinecolor": "white",
           "zerolinewidth": 2
          },
          "yaxis": {
           "automargin": true,
           "gridcolor": "white",
           "linecolor": "white",
           "ticks": "",
           "title": {
            "standoff": 15
           },
           "zerolinecolor": "white",
           "zerolinewidth": 2
          }
         }
        },
        "title": {
         "font": {
          "color": "#181818",
          "family": "Test Söhne, Sohne, Manrope, Inter, Arial",
          "size": 16
         },
         "text": "<span style=\"font-size: 18px; font-weight:600\">England</span><br><span style=\"font-family: Manrope, Sohne, Inter, Arial; font-size: 11px\">isthmian-league-premier-division, npl-premier-division, southern-league-south-division</span>",
         "x": 0,
         "xanchor": "left",
         "y": 0.95,
         "yanchor": "top"
        },
        "xaxis": {
         "anchor": "y",
         "autorange": true,
         "domain": [
          0,
          0.16799999999999998
         ],
         "gridcolor": "rgba(245,245,245,1)",
         "gridwidth": 1,
         "linecolor": "rgba(24,24,24,1)",
         "linewidth": 1,
         "mirror": false,
         "range": [
          -0.8795683776767566,
          2.5
         ],
         "showgrid": false,
         "showline": true,
         "tickangle": -90,
         "tickfont": {
          "size": 6
         },
         "title": {
          "text": "result type"
         },
         "type": "category"
        },
        "xaxis2": {
         "anchor": "y2",
         "autorange": true,
         "domain": [
          0.208,
          0.376
         ],
         "gridcolor": "rgba(245,245,245,1)",
         "gridwidth": 1,
         "linecolor": "rgba(24,24,24,1)",
         "linewidth": 1,
         "mirror": false,
         "range": [
          -0.9030402285620138,
          2.5
         ],
         "showgrid": false,
         "showline": true,
         "tickangle": -90,
         "tickfont": {
          "size": 6
         },
         "title": {
          "text": "shortest odds at closing"
         },
         "type": "category"
        },
        "xaxis3": {
         "anchor": "y3",
         "autorange": true,
         "domain": [
          0.416,
          0.584
         ],
         "gridcolor": "rgba(245,245,245,1)",
         "gridwidth": 1,
         "linecolor": "rgba(24,24,24,1)",
         "linewidth": 1,
         "mirror": false,
         "range": [
          -0.7318880011872666,
          2.5
         ],
         "showgrid": false,
         "showline": true,
         "tickangle": -90,
         "tickfont": {
          "size": 6
         },
         "title": {
          "text": "shortest odds ppt change"
         },
         "type": "category"
        },
        "xaxis4": {
         "anchor": "y4",
         "autorange": true,
         "domain": [
          0.624,
          0.792
         ],
         "gridcolor": "rgba(245,245,245,1)",
         "gridwidth": 1,
         "linecolor": "rgba(24,24,24,1)",
         "linewidth": 1,
         "mirror": false,
         "range": [
          -1.4526200906882603,
          10.82532339493156
         ],
         "showgrid": false,
         "showline": true,
         "tickangle": -90,
         "tickfont": {
          "size": 6
         },
         "title": {
          "text": "home (x) * away (y) goals"
         },
         "type": "linear"
        },
        "xaxis5": {
         "anchor": "y5",
         "autorange": true,
         "domain": [
          0.832,
          1
         ],
         "gridcolor": "rgba(245,245,245,1)",
         "gridwidth": 1,
         "linecolor": "rgba(24,24,24,1)",
         "linewidth": 1,
         "mirror": false,
         "range": [
          -2.0047429657873153,
          14.5
         ],
         "showgrid": false,
         "showline": true,
         "tickangle": -90,
         "tickfont": {
          "size": 6
         },
         "title": {
          "text": "bookmakers"
         },
         "type": "category"
        },
        "xaxis6": {
         "anchor": "y6",
         "autorange": true,
         "domain": [
          0,
          1
         ],
         "gridcolor": "rgba(245,245,245,1)",
         "gridwidth": 1,
         "linecolor": "rgba(24,24,24,1)",
         "linewidth": 1,
         "mirror": false,
         "range": [
          1.3080018661712924,
          4.05
         ],
         "showgrid": false,
         "showline": true,
         "tickangle": -90,
         "tickfont": {
          "size": 6
         },
         "title": {
          "text": "winning odds (rounded, top 20)"
         },
         "type": "linear"
        },
        "yaxis": {
         "anchor": "x",
         "autorange": true,
         "domain": [
          0.575,
          1
         ],
         "gridcolor": "rgba(245,245,245,1)",
         "gridwidth": 1,
         "linecolor": "rgba(24,24,24,1)",
         "linewidth": 1,
         "mirror": false,
         "range": [
          0,
          153911.57894736843
         ],
         "showgrid": true,
         "showline": false,
         "tickfont": {
          "size": 6
         },
         "ticklabelposition": "inside top",
         "title": {},
         "type": "linear"
        },
        "yaxis2": {
         "anchor": "x2",
         "autorange": true,
         "domain": [
          0.575,
          1
         ],
         "gridcolor": "rgba(245,245,245,1)",
         "gridwidth": 1,
         "linecolor": "rgba(24,24,24,1)",
         "linewidth": 1,
         "mirror": false,
         "range": [
          0,
          233114.73684210525
         ],
         "showgrid": true,
         "showline": false,
         "tickfont": {
          "size": 6
         },
         "ticklabelposition": "inside top",
         "title": {},
         "type": "linear"
        },
        "yaxis3": {
         "anchor": "x3",
         "autorange": true,
         "domain": [
          0.575,
          1
         ],
         "gridcolor": "rgba(245,245,245,1)",
         "gridwidth": 1,
         "linecolor": "rgba(24,24,24,1)",
         "linewidth": 1,
         "mirror": false,
         "range": [
          -1.4894444444444446,
          1.6994444444444445
         ],
         "showgrid": true,
         "showline": false,
         "tickfont": {
          "size": 6
         },
         "ticklabelposition": "inside top",
         "title": {},
         "type": "linear"
        },
        "yaxis4": {
         "anchor": "x4",
         "autorange": true,
         "domain": [
          0.575,
          1
         ],
         "gridcolor": "rgba(245,245,245,1)",
         "gridwidth": 1,
         "linecolor": "rgba(24,24,24,1)",
         "linewidth": 1,
         "mirror": false,
         "range": [
          -1.1678854370800402,
          10.812578718579015
         ],
         "showgrid": true,
         "showline": false,
         "tickfont": {
          "size": 6
         },
         "ticklabelposition": "inside top",
         "title": {},
         "type": "linear"
        },
        "yaxis5": {
         "anchor": "x5",
         "autorange": true,
         "domain": [
          0.575,
          1
         ],
         "gridcolor": "rgba(245,245,245,1)",
         "gridwidth": 1,
         "linecolor": "rgba(24,24,24,1)",
         "linewidth": 1,
         "mirror": false,
         "range": [
          0,
          18532.631578947367
         ],
         "showgrid": true,
         "showline": false,
         "tickfont": {
          "size": 6
         },
         "ticklabelposition": "inside top",
         "title": {},
         "type": "linear"
        },
        "yaxis6": {
         "anchor": "x6",
         "autorange": true,
         "domain": [
          0,
          0.425
         ],
         "gridcolor": "rgba(245,245,245,1)",
         "gridwidth": 1,
         "linecolor": "rgba(24,24,24,1)",
         "linewidth": 1,
         "mirror": false,
         "range": [
          0,
          18858.947368421053
         ],
         "showgrid": true,
         "showline": false,
         "tickfont": {
          "size": 6
         },
         "ticklabelposition": "inside top",
         "title": {},
         "type": "linear"
        }
       }
      },
      "image/png": "[encoded data removed]",
      "text/html": [
       "<div>                            <div id=\"5f73fdbf-55b7-4f7d-b15d-a806499f2d43\" class=\"plotly-graph-div\" style=\"height:500px; width:100%;\"></div>            <script type=\"text/javascript\">                require([\"plotly\"], function(Plotly) {                    window.PLOTLYENV=window.PLOTLYENV || {};                                    if (document.getElementById(\"5f73fdbf-55b7-4f7d-b15d-a806499f2d43\")) {                    Plotly.newPlot(                        \"5f73fdbf-55b7-4f7d-b15d-a806499f2d43\",                        [{\"hovertemplate\":\"%{x}: %{y}<extra></extra>\",\"marker\":{\"color\":[\"rgba(0, 100, 0, 1)\",\"rgba(255, 0, 0, 1)\",\"rgba(249, 180, 45, 1)\"]},\"type\":\"bar\",\"x\":[\"home\",\"away\",\"draw\"],\"xaxis\":\"x\",\"y\":[146216,112346,73058],\"yaxis\":\"y\"},{\"hovertemplate\":\"%{x}: %{y}<extra></extra>\",\"marker\":{\"color\":[\"rgba(0, 100, 0, 1)\",\"rgba(255, 0, 0, 1)\",\"rgba(249, 180, 45, 1)\"]},\"type\":\"bar\",\"x\":[\"home\",\"away\",\"draw\"],\"xaxis\":\"x2\",\"y\":[221459,98736,60],\"yaxis\":\"y2\"},{\"hovertemplate\":\"%{x}: %{y}<extra></extra>\",\"marker\":{\"color\":[\"rgba(0, 100, 0, 1)\",\"rgba(255, 0, 0, 1)\",\"rgba(249, 180, 45, 1)\"]},\"type\":\"bar\",\"x\":[\"home\",\"away\",\"draw\"],\"xaxis\":\"x3\",\"y\":[-1.33,1.54,-0.21],\"yaxis\":\"y3\"},{\"hoverinfo\":\"text\",\"hovertext\":[\"1, 1: 33066\",\"2, 1: 27733\",\"1, 0: 26727\",\"1, 2: 25108\",\"0, 1: 22979\",\"2, 0: 22839\",\"2, 2: 18061\",\"0, 2: 16291\",\"0, 0: 16234\",\"3, 1: 15517\",\"3, 0: 13530\",\"1, 3: 12267\",\"3, 2: 9873\",\"2, 3: 8502\",\"0, 3: 8307\",\"4, 1: 6882\",\"4, 0: 6204\",\"3, 3: 4734\",\"0, 4: 4214\",\"1, 4: 4171\",\"4, 2: 3886\",\"2, 4: 2800\",\"5, 0: 2653\",\"5, 1: 2453\",\"4, 3: 1873\",\"3, 4: 1851\",\"1, 5: 1402\",\"5, 2: 1398\",\"0, 5: 1386\",\"6, 0: 1306\",\"2, 5: 878\",\"4, 4: 849\",\"6, 1: 825\",\"7, 0: 604\",\"5, 3: 559\",\"0, 6: 528\",\"1, 6: 433\",\"3, 5: 303\",\"2, 6: 282\",\"7, 1: 259\",\"6, 2: 247\",\"5, 4: 246\",\"0, 7: 224\",\"6, 3: 144\",\"5, 5: 110\",\"1, 7: 109\",\"7, 2: 107\",\"8, 0: 98\",\"2, 7: 71\",\"4, 5: 67\",\"8, 1: 60\",\"9, 1: 58\",\"0, 8: 52\",\"9, 0: 51\",\"3, 6: 36\",\"4, 6: 36\",\"1, 10: 27\",\"7, 3: 27\",\"10, 3: 23\",\"3, 8: 22\",\"9, 3: 20\",\"6, 4: 14\",\"6, 6: 4\"],\"marker\":{\"color\":\"rgb(23,45,187)\",\"size\":[13.484828123795307,12.904738631732226,12.78608400432988,12.587892633090657,12.312118344154909,12.293322391943269,11.592722715190977,11.297619296165857,11.287724093945975,11.16096998082651,10.785106776882776,10.524090918072135,9.968097660540609,9.602410658676503,9.546870963084181,9.108118390086096,8.874991530703614,8.294821857464951,8.057004993697715,8.03637228915324,7.895428392559507,7.27427152512826,7.176857323279016,7.037596890143621,6.578614597068657,6.55921104467587,6.119092290013128,6.114723067456108,6.101558894083754,6.011540734219914,5.44344236490643,5.397925950646871,5.359366868641309,4.957460181876302,4.8624254066333785,4.79356345385686,4.561650145143182,4.172157138163567,4.097908689044531,4.011667600815287,3.9643705232359037,3.9603518961524267,3.8686728405353388,3.4641016151377544,3.238531840464366,3.23114631499574,3.216221452697031,3.1463462836457885,2.9027831081870996,2.861005552576305,2.7831576837137404,2.7596690210718946,2.68534961428265,2.6723451177837885,2.449489742783178,2.449489742783178,2.2795070569547775,2.2795070569547775,2.189938703094842,2.1657367706679937,2.114742526881128,1.9343364202676694,1.4142135623730951]},\"mode\":\"markers\",\"type\":\"scatter\",\"x\":[1.0,2.0,1.0,1.0,0.0,2.0,2.0,0.0,0.0,3.0,3.0,1.0,3.0,2.0,0.0,4.0,4.0,3.0,0.0,1.0,4.0,2.0,5.0,5.0,4.0,3.0,1.0,5.0,0.0,6.0,2.0,4.0,6.0,7.0,5.0,0.0,1.0,3.0,2.0,7.0,6.0,5.0,0.0,6.0,5.0,1.0,7.0,8.0,2.0,4.0,8.0,9.0,0.0,9.0,3.0,4.0,1.0,7.0,10.0,3.0,9.0,6.0,6.0],\"xaxis\":\"x4\",\"y\":[1.0,1.0,0.0,2.0,1.0,0.0,2.0,2.0,0.0,1.0,0.0,3.0,2.0,3.0,3.0,1.0,0.0,3.0,4.0,4.0,2.0,4.0,0.0,1.0,3.0,4.0,5.0,2.0,5.0,0.0,5.0,4.0,1.0,0.0,3.0,6.0,6.0,5.0,6.0,1.0,2.0,4.0,7.0,3.0,5.0,7.0,2.0,0.0,7.0,5.0,1.0,1.0,8.0,0.0,6.0,6.0,10.0,3.0,3.0,8.0,3.0,4.0,6.0],\"yaxis\":\"y4\"},{\"hovertemplate\":\"%{x}: %{y}<extra></extra>\",\"marker\":{\"color\":[\"rgb(23,45,187)\",\"rgb(23,45,187)\",\"rgb(23,45,187)\",\"rgb(23,45,187)\",\"rgb(23,45,187)\",\"rgb(23,45,187)\",\"rgb(23,45,187)\",\"rgb(23,45,187)\",\"rgb(23,45,187)\",\"rgb(23,45,187)\",\"rgb(23,45,187)\",\"rgb(23,45,187)\",\"rgb(23,45,187)\",\"rgb(23,45,187)\",\"rgb(23,45,187)\"]},\"type\":\"bar\",\"x\":[\"bet-at-home\",\"bwin\",\"BetVictor\",\"Betfred\",\"Betsson\",\"10Bet\",\"Marathonbet\",\"Betsafe\",\"ComeOn\",\"Betway\",\"bet365\",\"1xBet\",\"Unibet\",\"888sport\",\"NordicBet\"],\"xaxis\":\"x5\",\"y\":[17606,17442,16121,15934,15274,14868,14577,14440,14036,12659,12606,11865,11795,11081,10749],\"yaxis\":\"y5\"},{\"hovertemplate\":\"%{x}: %{y}<extra></extra>\",\"marker\":{\"color\":[\"rgb(23,45,187)\",\"rgb(23,45,187)\",\"rgb(23,45,187)\",\"rgb(23,45,187)\",\"rgb(23,45,187)\",\"rgb(23,45,187)\",\"rgb(23,45,187)\",\"rgb(23,45,187)\",\"rgb(23,45,187)\",\"rgb(23,45,187)\",\"rgb(23,45,187)\",\"rgb(23,45,187)\",\"rgb(23,45,187)\",\"rgb(23,45,187)\",\"rgb(23,45,187)\",\"rgb(23,45,187)\",\"rgb(23,45,187)\",\"rgb(23,45,187)\",\"rgb(23,45,187)\",\"rgb(23,45,187)\"]},\"type\":\"bar\",\"x\":[3.5,2.2,2.4,1.6,3.6,2.5,1.9,2.1,2.0,1.8,3.8,1.7,1.4,2.6,2.3,1.5,3.4,2.8,4.0,3.7],\"xaxis\":\"x6\",\"y\":[17916,17442,17261,16613,16192,16010,15735,15370,15249,14196,13884,13286,11352,11008,10167,9979,9361,7693,7125,6547],\"yaxis\":\"y6\"}],                        {\"font\":{\"color\":\"rgba(24,24,24,1)\",\"family\":\"Manrope, Sohne, Inter, Arial\",\"size\":8},\"height\":500,\"legend\":{\"font\":{\"color\":\"#181818\",\"size\":10},\"orientation\":\"h\",\"x\":1,\"xanchor\":\"right\",\"y\":1,\"yanchor\":\"bottom\"},\"margin\":{\"b\":0,\"l\":0,\"r\":0,\"t\":70},\"paper_bgcolor\":\"rgba(255,255,255,0)\",\"plot_bgcolor\":\"rgba(255,255,255,0)\",\"showlegend\":false,\"template\":{\"data\":{\"bar\":[{\"error_x\":{\"color\":\"#2a3f5f\"},\"error_y\":{\"color\":\"#2a3f5f\"},\"marker\":{\"line\":{\"color\":\"#E5ECF6\",\"width\":0.5},\"pattern\":{\"fillmode\":\"overlay\",\"size\":10,\"solidity\":0.2}},\"type\":\"bar\"}],\"barpolar\":[{\"marker\":{\"line\":{\"color\":\"#E5ECF6\",\"width\":0.5},\"pattern\":{\"fillmode\":\"overlay\",\"size\":10,\"solidity\":0.2}},\"type\":\"barpolar\"}],\"carpet\":[{\"aaxis\":{\"endlinecolor\":\"#2a3f5f\",\"gridcolor\":\"white\",\"linecolor\":\"white\",\"minorgridcolor\":\"white\",\"startlinecolor\":\"#2a3f5f\"},\"baxis\":{\"endlinecolor\":\"#2a3f5f\",\"gridcolor\":\"white\",\"linecolor\":\"white\",\"minorgridcolor\":\"white\",\"startlinecolor\":\"#2a3f5f\"},\"type\":\"carpet\"}],\"choropleth\":[{\"colorbar\":{\"outlinewidth\":0,\"ticks\":\"\"},\"type\":\"choropleth\"}],\"contour\":[{\"colorbar\":{\"outlinewidth\":0,\"ticks\":\"\"},\"colorscale\":[[0.0,\"#0d0887\"],[0.1111111111111111,\"#46039f\"],[0.2222222222222222,\"#7201a8\"],[0.3333333333333333,\"#9c179e\"],[0.4444444444444444,\"#bd3786\"],[0.5555555555555556,\"#d8576b\"],[0.6666666666666666,\"#ed7953\"],[0.7777777777777778,\"#fb9f3a\"],[0.8888888888888888,\"#fdca26\"],[1.0,\"#f0f921\"]],\"type\":\"contour\"}],\"contourcarpet\":[{\"colorbar\":{\"outlinewidth\":0,\"ticks\":\"\"},\"type\":\"contourcarpet\"}],\"heatmap\":[{\"colorbar\":{\"outlinewidth\":0,\"ticks\":\"\"},\"colorscale\":[[0.0,\"#0d0887\"],[0.1111111111111111,\"#46039f\"],[0.2222222222222222,\"#7201a8\"],[0.3333333333333333,\"#9c179e\"],[0.4444444444444444,\"#bd3786\"],[0.5555555555555556,\"#d8576b\"],[0.6666666666666666,\"#ed7953\"],[0.7777777777777778,\"#fb9f3a\"],[0.8888888888888888,\"#fdca26\"],[1.0,\"#f0f921\"]],\"type\":\"heatmap\"}],\"heatmapgl\":[{\"colorbar\":{\"outlinewidth\":0,\"ticks\":\"\"},\"colorscale\":[[0.0,\"#0d0887\"],[0.1111111111111111,\"#46039f\"],[0.2222222222222222,\"#7201a8\"],[0.3333333333333333,\"#9c179e\"],[0.4444444444444444,\"#bd3786\"],[0.5555555555555556,\"#d8576b\"],[0.6666666666666666,\"#ed7953\"],[0.7777777777777778,\"#fb9f3a\"],[0.8888888888888888,\"#fdca26\"],[1.0,\"#f0f921\"]],\"type\":\"heatmapgl\"}],\"histogram\":[{\"marker\":{\"pattern\":{\"fillmode\":\"overlay\",\"size\":10,\"solidity\":0.2}},\"type\":\"histogram\"}],\"histogram2d\":[{\"colorbar\":{\"outlinewidth\":0,\"ticks\":\"\"},\"colorscale\":[[0.0,\"#0d0887\"],[0.1111111111111111,\"#46039f\"],[0.2222222222222222,\"#7201a8\"],[0.3333333333333333,\"#9c179e\"],[0.4444444444444444,\"#bd3786\"],[0.5555555555555556,\"#d8576b\"],[0.6666666666666666,\"#ed7953\"],[0.7777777777777778,\"#fb9f3a\"],[0.8888888888888888,\"#fdca26\"],[1.0,\"#f0f921\"]],\"type\":\"histogram2d\"}],\"histogram2dcontour\":[{\"colorbar\":{\"outlinewidth\":0,\"ticks\":\"\"},\"colorscale\":[[0.0,\"#0d0887\"],[0.1111111111111111,\"#46039f\"],[0.2222222222222222,\"#7201a8\"],[0.3333333333333333,\"#9c179e\"],[0.4444444444444444,\"#bd3786\"],[0.5555555555555556,\"#d8576b\"],[0.6666666666666666,\"#ed7953\"],[0.7777777777777778,\"#fb9f3a\"],[0.8888888888888888,\"#fdca26\"],[1.0,\"#f0f921\"]],\"type\":\"histogram2dcontour\"}],\"mesh3d\":[{\"colorbar\":{\"outlinewidth\":0,\"ticks\":\"\"},\"type\":\"mesh3d\"}],\"parcoords\":[{\"line\":{\"colorbar\":{\"outlinewidth\":0,\"ticks\":\"\"}},\"type\":\"parcoords\"}],\"pie\":[{\"automargin\":true,\"type\":\"pie\"}],\"scatter\":[{\"marker\":{\"colorbar\":{\"outlinewidth\":0,\"ticks\":\"\"}},\"type\":\"scatter\"}],\"scatter3d\":[{\"line\":{\"colorbar\":{\"outlinewidth\":0,\"ticks\":\"\"}},\"marker\":{\"colorbar\":{\"outlinewidth\":0,\"ticks\":\"\"}},\"type\":\"scatter3d\"}],\"scattercarpet\":[{\"marker\":{\"colorbar\":{\"outlinewidth\":0,\"ticks\":\"\"}},\"type\":\"scattercarpet\"}],\"scattergeo\":[{\"marker\":{\"colorbar\":{\"outlinewidth\":0,\"ticks\":\"\"}},\"type\":\"scattergeo\"}],\"scattergl\":[{\"marker\":{\"colorbar\":{\"outlinewidth\":0,\"ticks\":\"\"}},\"type\":\"scattergl\"}],\"scattermapbox\":[{\"marker\":{\"colorbar\":{\"outlinewidth\":0,\"ticks\":\"\"}},\"type\":\"scattermapbox\"}],\"scatterpolar\":[{\"marker\":{\"colorbar\":{\"outlinewidth\":0,\"ticks\":\"\"}},\"type\":\"scatterpolar\"}],\"scatterpolargl\":[{\"marker\":{\"colorbar\":{\"outlinewidth\":0,\"ticks\":\"\"}},\"type\":\"scatterpolargl\"}],\"scatterternary\":[{\"marker\":{\"colorbar\":{\"outlinewidth\":0,\"ticks\":\"\"}},\"type\":\"scatterternary\"}],\"surface\":[{\"colorbar\":{\"outlinewidth\":0,\"ticks\":\"\"},\"colorscale\":[[0.0,\"#0d0887\"],[0.1111111111111111,\"#46039f\"],[0.2222222222222222,\"#7201a8\"],[0.3333333333333333,\"#9c179e\"],[0.4444444444444444,\"#bd3786\"],[0.5555555555555556,\"#d8576b\"],[0.6666666666666666,\"#ed7953\"],[0.7777777777777778,\"#fb9f3a\"],[0.8888888888888888,\"#fdca26\"],[1.0,\"#f0f921\"]],\"type\":\"surface\"}],\"table\":[{\"cells\":{\"fill\":{\"color\":\"#EBF0F8\"},\"line\":{\"color\":\"white\"}},\"header\":{\"fill\":{\"color\":\"#C8D4E3\"},\"line\":{\"color\":\"white\"}},\"type\":\"table\"}]},\"layout\":{\"annotationdefaults\":{\"arrowcolor\":\"#2a3f5f\",\"arrowhead\":0,\"arrowwidth\":1},\"autotypenumbers\":\"strict\",\"coloraxis\":{\"colorbar\":{\"outlinewidth\":0,\"ticks\":\"\"}},\"colorscale\":{\"diverging\":[[0,\"#8e0152\"],[0.1,\"#c51b7d\"],[0.2,\"#de77ae\"],[0.3,\"#f1b6da\"],[0.4,\"#fde0ef\"],[0.5,\"#f7f7f7\"],[0.6,\"#e6f5d0\"],[0.7,\"#b8e186\"],[0.8,\"#7fbc41\"],[0.9,\"#4d9221\"],[1,\"#276419\"]],\"sequential\":[[0.0,\"#0d0887\"],[0.1111111111111111,\"#46039f\"],[0.2222222222222222,\"#7201a8\"],[0.3333333333333333,\"#9c179e\"],[0.4444444444444444,\"#bd3786\"],[0.5555555555555556,\"#d8576b\"],[0.6666666666666666,\"#ed7953\"],[0.7777777777777778,\"#fb9f3a\"],[0.8888888888888888,\"#fdca26\"],[1.0,\"#f0f921\"]],\"sequentialminus\":[[0.0,\"#0d0887\"],[0.1111111111111111,\"#46039f\"],[0.2222222222222222,\"#7201a8\"],[0.3333333333333333,\"#9c179e\"],[0.4444444444444444,\"#bd3786\"],[0.5555555555555556,\"#d8576b\"],[0.6666666666666666,\"#ed7953\"],[0.7777777777777778,\"#fb9f3a\"],[0.8888888888888888,\"#fdca26\"],[1.0,\"#f0f921\"]]},\"colorway\":[\"#636efa\",\"#EF553B\",\"#00cc96\",\"#ab63fa\",\"#FFA15A\",\"#19d3f3\",\"#FF6692\",\"#B6E880\",\"#FF97FF\",\"#FECB52\"],\"font\":{\"color\":\"#2a3f5f\"},\"geo\":{\"bgcolor\":\"white\",\"lakecolor\":\"white\",\"landcolor\":\"#E5ECF6\",\"showlakes\":true,\"showland\":true,\"subunitcolor\":\"white\"},\"hoverlabel\":{\"align\":\"left\"},\"hovermode\":\"closest\",\"mapbox\":{\"style\":\"light\"},\"paper_bgcolor\":\"white\",\"plot_bgcolor\":\"#E5ECF6\",\"polar\":{\"angularaxis\":{\"gridcolor\":\"white\",\"linecolor\":\"white\",\"ticks\":\"\"},\"bgcolor\":\"#E5ECF6\",\"radialaxis\":{\"gridcolor\":\"white\",\"linecolor\":\"white\",\"ticks\":\"\"}},\"scene\":{\"xaxis\":{\"backgroundcolor\":\"#E5ECF6\",\"gridcolor\":\"white\",\"gridwidth\":2,\"linecolor\":\"white\",\"showbackground\":true,\"ticks\":\"\",\"zerolinecolor\":\"white\"},\"yaxis\":{\"backgroundcolor\":\"#E5ECF6\",\"gridcolor\":\"white\",\"gridwidth\":2,\"linecolor\":\"white\",\"showbackground\":true,\"ticks\":\"\",\"zerolinecolor\":\"white\"},\"zaxis\":{\"backgroundcolor\":\"#E5ECF6\",\"gridcolor\":\"white\",\"gridwidth\":2,\"linecolor\":\"white\",\"showbackground\":true,\"ticks\":\"\",\"zerolinecolor\":\"white\"}},\"shapedefaults\":{\"line\":{\"color\":\"#2a3f5f\"}},\"ternary\":{\"aaxis\":{\"gridcolor\":\"white\",\"linecolor\":\"white\",\"ticks\":\"\"},\"baxis\":{\"gridcolor\":\"white\",\"linecolor\":\"white\",\"ticks\":\"\"},\"bgcolor\":\"#E5ECF6\",\"caxis\":{\"gridcolor\":\"white\",\"linecolor\":\"white\",\"ticks\":\"\"}},\"title\":{\"x\":0.05},\"xaxis\":{\"automargin\":true,\"gridcolor\":\"white\",\"linecolor\":\"white\",\"ticks\":\"\",\"title\":{\"standoff\":15},\"zerolinecolor\":\"white\",\"zerolinewidth\":2},\"yaxis\":{\"automargin\":true,\"gridcolor\":\"white\",\"linecolor\":\"white\",\"ticks\":\"\",\"title\":{\"standoff\":15},\"zerolinecolor\":\"white\",\"zerolinewidth\":2}}},\"title\":{\"font\":{\"color\":\"#181818\",\"family\":\"Test S\\u00f6hne, Sohne, Manrope, Inter, Arial\",\"size\":16},\"text\":\"<span style=\\\"font-size: 18px; font-weight:600\\\">England</span><br><span style=\\\"font-family: Manrope, Sohne, Inter, Arial; font-size: 11px\\\">isthmian-league-premier-division, npl-premier-division, southern-league-south-division</span>\",\"x\":0,\"xanchor\":\"left\",\"y\":0.95,\"yanchor\":\"top\"},\"xaxis\":{\"anchor\":\"y\",\"domain\":[0.0,0.16799999999999998],\"gridcolor\":\"rgba(245,245,245,1)\",\"gridwidth\":1,\"linecolor\":\"rgba(24,24,24,1)\",\"linewidth\":1,\"mirror\":false,\"showgrid\":false,\"showline\":true,\"tickangle\":-90,\"tickfont\":{\"size\":6},\"title\":{\"text\":\"result type\"}},\"xaxis2\":{\"anchor\":\"y2\",\"domain\":[0.208,0.376],\"gridcolor\":\"rgba(245,245,245,1)\",\"gridwidth\":1,\"linecolor\":\"rgba(24,24,24,1)\",\"linewidth\":1,\"mirror\":false,\"showgrid\":false,\"showline\":true,\"tickangle\":-90,\"tickfont\":{\"size\":6},\"title\":{\"text\":\"shortest odds at closing\"}},\"xaxis3\":{\"anchor\":\"y3\",\"domain\":[0.416,0.584],\"gridcolor\":\"rgba(245,245,245,1)\",\"gridwidth\":1,\"linecolor\":\"rgba(24,24,24,1)\",\"linewidth\":1,\"mirror\":false,\"showgrid\":false,\"showline\":true,\"tickangle\":-90,\"tickfont\":{\"size\":6},\"title\":{\"text\":\"shortest odds ppt change\"}},\"xaxis4\":{\"anchor\":\"y4\",\"domain\":[0.624,0.792],\"gridcolor\":\"rgba(245,245,245,1)\",\"gridwidth\":1,\"linecolor\":\"rgba(24,24,24,1)\",\"linewidth\":1,\"mirror\":false,\"showgrid\":false,\"showline\":true,\"tickangle\":-90,\"tickfont\":{\"size\":6},\"title\":{\"text\":\"home (x) * away (y) goals\"}},\"xaxis5\":{\"anchor\":\"y5\",\"domain\":[0.832,1.0],\"gridcolor\":\"rgba(245,245,245,1)\",\"gridwidth\":1,\"linecolor\":\"rgba(24,24,24,1)\",\"linewidth\":1,\"mirror\":false,\"showgrid\":false,\"showline\":true,\"tickangle\":-90,\"tickfont\":{\"size\":6},\"title\":{\"text\":\"bookmakers\"}},\"xaxis6\":{\"anchor\":\"y6\",\"domain\":[0.0,1.0],\"gridcolor\":\"rgba(245,245,245,1)\",\"gridwidth\":1,\"linecolor\":\"rgba(24,24,24,1)\",\"linewidth\":1,\"mirror\":false,\"showgrid\":false,\"showline\":true,\"tickangle\":-90,\"tickfont\":{\"size\":6},\"title\":{\"text\":\"winning odds (rounded, top 20)\"}},\"yaxis\":{\"anchor\":\"x\",\"domain\":[0.575,1.0],\"gridcolor\":\"rgba(245,245,245,1)\",\"gridwidth\":1,\"linecolor\":\"rgba(24,24,24,1)\",\"linewidth\":1,\"mirror\":false,\"showgrid\":true,\"showline\":false,\"tickfont\":{\"size\":6},\"ticklabelposition\":\"inside top\",\"title\":{}},\"yaxis2\":{\"anchor\":\"x2\",\"domain\":[0.575,1.0],\"gridcolor\":\"rgba(245,245,245,1)\",\"gridwidth\":1,\"linecolor\":\"rgba(24,24,24,1)\",\"linewidth\":1,\"mirror\":false,\"showgrid\":true,\"showline\":false,\"tickfont\":{\"size\":6},\"ticklabelposition\":\"inside top\",\"title\":{}},\"yaxis3\":{\"anchor\":\"x3\",\"domain\":[0.575,1.0],\"gridcolor\":\"rgba(245,245,245,1)\",\"gridwidth\":1,\"linecolor\":\"rgba(24,24,24,1)\",\"linewidth\":1,\"mirror\":false,\"showgrid\":true,\"showline\":false,\"tickfont\":{\"size\":6},\"ticklabelposition\":\"inside top\",\"title\":{}},\"yaxis4\":{\"anchor\":\"x4\",\"domain\":[0.575,1.0],\"gridcolor\":\"rgba(245,245,245,1)\",\"gridwidth\":1,\"linecolor\":\"rgba(24,24,24,1)\",\"linewidth\":1,\"mirror\":false,\"showgrid\":true,\"showline\":false,\"tickfont\":{\"size\":6},\"ticklabelposition\":\"inside top\",\"title\":{}},\"yaxis5\":{\"anchor\":\"x5\",\"domain\":[0.575,1.0],\"gridcolor\":\"rgba(245,245,245,1)\",\"gridwidth\":1,\"linecolor\":\"rgba(24,24,24,1)\",\"linewidth\":1,\"mirror\":false,\"showgrid\":true,\"showline\":false,\"tickfont\":{\"size\":6},\"ticklabelposition\":\"inside top\",\"title\":{}},\"yaxis6\":{\"anchor\":\"x6\",\"domain\":[0.0,0.425],\"gridcolor\":\"rgba(245,245,245,1)\",\"gridwidth\":1,\"linecolor\":\"rgba(24,24,24,1)\",\"linewidth\":1,\"mirror\":false,\"showgrid\":true,\"showline\":false,\"tickfont\":{\"size\":6},\"ticklabelposition\":\"inside top\",\"title\":{}}},                        {\"responsive\": true}                    ).then(function(){\n",
       "                            \n",
       "var gd = document.getElementById('5f73fdbf-55b7-4f7d-b15d-a806499f2d43');\n",
       "var x = new MutationObserver(function (mutations, observer) {{\n",
       "        var display = window.getComputedStyle(gd).display;\n",
       "        if (!display || display === 'none') {{\n",
       "            console.log([gd, 'removed!']);\n",
       "            Plotly.purge(gd);\n",
       "            observer.disconnect();\n",
       "        }}\n",
       "}});\n",
       "\n",
       "// Listen for the removal of the full notebook cells\n",
       "var notebookContainer = gd.closest('#notebook-container');\n",
       "if (notebookContainer) {{\n",
       "    x.observe(notebookContainer, {childList: true});\n",
       "}}\n",
       "\n",
       "// Listen for the clearing of the current output cell\n",
       "var outputEl = gd.closest('.output');\n",
       "if (outputEl) {{\n",
       "    x.observe(outputEl, {childList: true});\n",
       "}}\n",
       "\n",
       "                        })                };                });            </script>        </div>"
      ]
     },
     "metadata": {},
     "output_type": "display_data"
    }
   ],
   "source": [
    "makeSubplots('england', ['isthmian-league-premier-division', 'npl-premier-division', 'isthmian-league-premier-division', 'southern-league-south-division'])"
   ]
  },
  {
   "cell_type": "code",
   "execution_count": 63,
   "id": "af685075-1fb3-468b-a4e2-3211aa208909",
   "metadata": {},
   "outputs": [
    {
     "name": "stdout",
     "output_type": "stream",
     "text": [
      "a-league              (69554, 37)\t(69554, 37)\n",
      "australia-cup         (7771, 37)\t(77325, 37)\n",
      "brisbane-premier-lea  (23123, 37)\t(100448, 37)\n",
      "npl-act               (14352, 37)\t(114800, 37)\n",
      "npl-northern-nsw      (22121, 37)\t(136921, 37)\n",
      "npl-nsw               (39416, 37)\t(176337, 37)\n",
      "npl-queensland        (43658, 37)\t(219995, 37)\n",
      "npl-south-australian  (42471, 37)\t(262466, 37)\n",
      "npl-tasmania          (18006, 37)\t(280472, 37)\n",
      "npl-victoria          (53414, 37)\t(333886, 37)\n",
      "npl-western-australi  (43417, 37)\t(377303, 37)\n"
     ]
    },
    {
     "data": {
      "application/vnd.plotly.v1+json": {
       "config": {
        "plotlyServerURL": "https://plotly.com"
       },
       "data": [
        {
         "hovertemplate": "%{x}: %{y}<extra></extra>",
         "marker": {
          "color": [
           "rgba(0, 100, 0, 1)",
           "rgba(255, 0, 0, 1)",
           "rgba(249, 180, 45, 1)"
          ]
         },
         "type": "bar",
         "x": [
          "home",
          "away",
          "draw"
         ],
         "xaxis": "x",
         "y": [
          166647,
          143176,
          67480
         ],
         "yaxis": "y"
        },
        {
         "hovertemplate": "%{x}: %{y}<extra></extra>",
         "marker": {
          "color": [
           "rgba(0, 100, 0, 1)",
           "rgba(255, 0, 0, 1)",
           "rgba(249, 180, 45, 1)"
          ]
         },
         "type": "bar",
         "x": [
          "home",
          "away",
          "draw"
         ],
         "xaxis": "x2",
         "y": [
          225612,
          148614,
          30
         ],
         "yaxis": "y2"
        },
        {
         "hovertemplate": "%{x}: %{y}<extra></extra>",
         "marker": {
          "color": [
           "rgba(0, 100, 0, 1)",
           "rgba(255, 0, 0, 1)",
           "rgba(249, 180, 45, 1)"
          ]
         },
         "type": "bar",
         "x": [
          "home",
          "away",
          "draw"
         ],
         "xaxis": "x3",
         "y": [
          -1.77,
          1.77,
          -0.01
         ],
         "yaxis": "y3"
        },
        {
         "hoverinfo": "text",
         "hovertext": [
          "1, 1: 31299",
          "2, 1: 31266",
          "1, 2: 28538",
          "1, 0: 25928",
          "0, 1: 23909",
          "2, 0: 20651",
          "2, 2: 17182",
          "0, 2: 16893",
          "3, 1: 15783",
          "1, 3: 14654",
          "3, 0: 14139",
          "3, 2: 13380",
          "0, 0: 13200",
          "2, 3: 11989",
          "0, 3: 11286",
          "4, 1: 8693",
          "4, 0: 7656",
          "1, 4: 7135",
          "0, 4: 6783",
          "4, 2: 5358",
          "2, 4: 5111",
          "3, 3: 4888",
          "5, 0: 4035",
          "5, 1: 3844",
          "1, 5: 3391",
          "0, 5: 3280",
          "4, 3: 3181",
          "5, 2: 2622",
          "3, 4: 2118",
          "6, 1: 2001",
          "2, 5: 1797",
          "6, 0: 1761",
          "1, 6: 1281",
          "0, 6: 1168",
          "6, 2: 1025",
          "7, 0: 971",
          "3, 5: 897",
          "5, 3: 823",
          "4, 4: 810",
          "7, 1: 545",
          "5, 4: 541",
          "2, 6: 484",
          "6, 3: 426",
          "0, 7: 408",
          "3, 6: 402",
          "8, 1: 332",
          "8, 0: 324",
          "9, 0: 321",
          "1, 7: 298",
          "7, 2: 272",
          "0, 8: 245",
          "2, 7: 176",
          "4, 5: 152",
          "0, 9: 140",
          "1, 8: 138",
          "2, 8: 136",
          "10, 0: 123",
          "5, 5: 95",
          "10, 2: 93",
          "10, 1: 92",
          "7, 3: 90",
          "3, 7: 75",
          "9, 1: 66",
          "8, 2: 62",
          "13, 0: 51",
          "2, 11: 45",
          "2, 9: 40",
          "12, 0: 37",
          "3, 8: 36",
          "0, 11: 35",
          "12, 1: 33",
          "1, 9: 32",
          "2, 10: 29",
          "7, 4: 29",
          "15, 1: 27",
          "4, 6: 23",
          "9, 3: 21",
          "0, 13: 13",
          "0, 10: 12",
          "0, 12: 11",
          "7, 5: 8",
          "11, 0: 8",
          "6, 5: 7",
          "4, 7: 7",
          "13, 1: 7",
          "14, 0: 6",
          "6, 6: 6",
          "11, 2: 5",
          "9, 2: 4",
          "5, 7: 4",
          "1, 10: 3",
          "3, 9: 1",
          "1, 12: 1"
         ],
         "marker": {
          "color": "rgb(23,45,187)",
          "size": [
           13.300948610526733,
           13.297441270390951,
           12.99738200399127,
           12.689434095457637,
           12.434844336695548,
           11.987683597546246,
           11.449023022334387,
           11.400573412535302,
           11.208497237866322,
           11.002440960488892,
           10.90447280227882,
           10.755089489510073,
           10.718733737282617,
           10.46395203012106,
           10.307064919643935,
           9.655892451825055,
           9.35406710564498,
           9.190697971255938,
           9.075184315898598,
           8.555604048656086,
           8.455250333778444,
           8.361473146030796,
           7.970047042058722,
           7.874007874011811,
           7.631008678160619,
           7.567779347543467,
           7.510016951300063,
           7.155799637913881,
           6.783932045356543,
           6.6882388184551305,
           6.510839944926714,
           6.477983522417649,
           5.98256302401793,
           5.84602557138353,
           5.658234811950123,
           5.5821924816120205,
           5.472655503843073,
           5.356115810506911,
           5.334838230116769,
           4.831690704076318,
           4.822800711124814,
           4.69041575982343,
           4.543101081920838,
           4.494330859730306,
           4.47771567384123,
           4.268590769596987,
           4.242640687119285,
           4.232785473794877,
           4.154837722659222,
           4.061086369737861,
           3.9563209984148817,
           3.6423205736757436,
           3.5112430855664143,
           3.439790628250393,
           3.4274392955194304,
           3.414952970348289,
           3.3302457126178266,
           3.121985641352145,
           3.1054227990714813,
           3.0970410146824725,
           3.080070288241023,
           2.942830956382712,
           2.8502698827717983,
           2.806066263296683,
           2.6723451177837885,
           2.5900200641113513,
           2.514866859365871,
           2.4663257145596607,
           2.449489742783178,
           2.4322992790977875,
           2.39678172692843,
           2.378414230005442,
           2.320595787106084,
           2.320595787106084,
           2.2795070569547775,
           2.189938703094842,
           2.1406951429280725,
           1.8988289221159418,
           1.8612097182041991,
           1.8211602868378718,
           1.681792830507429,
           1.681792830507429,
           1.6265765616977856,
           1.6265765616977856,
           1.6265765616977856,
           1.5650845800732873,
           1.5650845800732873,
           1.4953487812212205,
           1.4142135623730951,
           1.4142135623730951,
           1.3160740129524924,
           1,
           1
          ]
         },
         "mode": "markers",
         "type": "scatter",
         "x": [
          1,
          2,
          1,
          1,
          0,
          2,
          2,
          0,
          3,
          1,
          3,
          3,
          0,
          2,
          0,
          4,
          4,
          1,
          0,
          4,
          2,
          3,
          5,
          5,
          1,
          0,
          4,
          5,
          3,
          6,
          2,
          6,
          1,
          0,
          6,
          7,
          3,
          5,
          4,
          7,
          5,
          2,
          6,
          0,
          3,
          8,
          8,
          9,
          1,
          7,
          0,
          2,
          4,
          0,
          1,
          2,
          10,
          5,
          10,
          10,
          7,
          3,
          9,
          8,
          13,
          2,
          2,
          12,
          3,
          0,
          12,
          1,
          2,
          7,
          15,
          4,
          9,
          0,
          0,
          0,
          7,
          11,
          6,
          4,
          13,
          14,
          6,
          11,
          9,
          5,
          1,
          3,
          1
         ],
         "xaxis": "x4",
         "y": [
          1,
          1,
          2,
          0,
          1,
          0,
          2,
          2,
          1,
          3,
          0,
          2,
          0,
          3,
          3,
          1,
          0,
          4,
          4,
          2,
          4,
          3,
          0,
          1,
          5,
          5,
          3,
          2,
          4,
          1,
          5,
          0,
          6,
          6,
          2,
          0,
          5,
          3,
          4,
          1,
          4,
          6,
          3,
          7,
          6,
          1,
          0,
          0,
          7,
          2,
          8,
          7,
          5,
          9,
          8,
          8,
          0,
          5,
          2,
          1,
          3,
          7,
          1,
          2,
          0,
          11,
          9,
          0,
          8,
          11,
          1,
          9,
          10,
          4,
          1,
          6,
          3,
          13,
          10,
          12,
          5,
          0,
          5,
          7,
          1,
          0,
          6,
          2,
          2,
          7,
          10,
          9,
          12
         ],
         "yaxis": "y4"
        },
        {
         "hovertemplate": "%{x}: %{y}<extra></extra>",
         "marker": {
          "color": [
           "rgb(23,45,187)",
           "rgb(23,45,187)",
           "rgb(23,45,187)",
           "rgb(23,45,187)",
           "rgb(23,45,187)",
           "rgb(23,45,187)",
           "rgb(23,45,187)",
           "rgb(23,45,187)",
           "rgb(23,45,187)",
           "rgb(23,45,187)",
           "rgb(23,45,187)",
           "rgb(23,45,187)",
           "rgb(23,45,187)",
           "rgb(23,45,187)",
           "rgb(23,45,187)"
          ]
         },
         "type": "bar",
         "x": [
          "bet-at-home",
          "10Bet",
          "bwin",
          "BetVictor",
          "188BET",
          "Unibet",
          "ComeOn",
          "Betway",
          "Dafabet",
          "William Hill",
          "888sport",
          "1xBet",
          "bet365",
          "Betsson",
          "Interwetten"
         ],
         "xaxis": "x5",
         "y": [
          14529,
          14345,
          14334,
          13383,
          13181,
          12814,
          11990,
          11566,
          11553,
          11109,
          10937,
          10091,
          10022,
          9790,
          9545
         ],
         "yaxis": "y5"
        },
        {
         "hovertemplate": "%{x}: %{y}<extra></extra>",
         "marker": {
          "color": [
           "rgb(23,45,187)",
           "rgb(23,45,187)",
           "rgb(23,45,187)",
           "rgb(23,45,187)",
           "rgb(23,45,187)",
           "rgb(23,45,187)",
           "rgb(23,45,187)",
           "rgb(23,45,187)",
           "rgb(23,45,187)",
           "rgb(23,45,187)",
           "rgb(23,45,187)",
           "rgb(23,45,187)",
           "rgb(23,45,187)",
           "rgb(23,45,187)",
           "rgb(23,45,187)",
           "rgb(23,45,187)",
           "rgb(23,45,187)",
           "rgb(23,45,187)",
           "rgb(23,45,187)",
           "rgb(23,45,187)"
          ]
         },
         "type": "bar",
         "x": [
          1.4,
          1.6,
          1.9,
          1.2,
          1.8,
          2,
          1.7,
          1.5,
          2.1,
          2.2,
          1.3,
          2.5,
          1.1,
          2.4,
          3.5,
          3.8,
          2.6,
          3.6,
          2.3,
          4
         ],
         "xaxis": "x6",
         "y": [
          21161,
          20538,
          18492,
          15933,
          15866,
          15207,
          14662,
          14137,
          14135,
          13963,
          13446,
          12974,
          10881,
          10567,
          10299,
          9955,
          9346,
          9089,
          8276,
          8227
         ],
         "yaxis": "y6"
        }
       ],
       "layout": {
        "autosize": true,
        "font": {
         "color": "rgba(24,24,24,1)",
         "family": "Manrope, Sohne, Inter, Arial",
         "size": 8
        },
        "legend": {
         "font": {
          "color": "#181818",
          "size": 10
         },
         "orientation": "h",
         "x": 1,
         "xanchor": "right",
         "y": 1,
         "yanchor": "bottom"
        },
        "margin": {
         "b": 0,
         "l": 0,
         "r": 0,
         "t": 70
        },
        "paper_bgcolor": "rgba(255,255,255,0)",
        "plot_bgcolor": "rgba(255,255,255,0)",
        "showlegend": false,
        "template": {
         "data": {
          "bar": [
           {
            "error_x": {
             "color": "#2a3f5f"
            },
            "error_y": {
             "color": "#2a3f5f"
            },
            "marker": {
             "line": {
              "color": "#E5ECF6",
              "width": 0.5
             },
             "pattern": {
              "fillmode": "overlay",
              "size": 10,
              "solidity": 0.2
             }
            },
            "type": "bar"
           }
          ],
          "barpolar": [
           {
            "marker": {
             "line": {
              "color": "#E5ECF6",
              "width": 0.5
             },
             "pattern": {
              "fillmode": "overlay",
              "size": 10,
              "solidity": 0.2
             }
            },
            "type": "barpolar"
           }
          ],
          "carpet": [
           {
            "aaxis": {
             "endlinecolor": "#2a3f5f",
             "gridcolor": "white",
             "linecolor": "white",
             "minorgridcolor": "white",
             "startlinecolor": "#2a3f5f"
            },
            "baxis": {
             "endlinecolor": "#2a3f5f",
             "gridcolor": "white",
             "linecolor": "white",
             "minorgridcolor": "white",
             "startlinecolor": "#2a3f5f"
            },
            "type": "carpet"
           }
          ],
          "choropleth": [
           {
            "colorbar": {
             "outlinewidth": 0,
             "ticks": ""
            },
            "type": "choropleth"
           }
          ],
          "contour": [
           {
            "colorbar": {
             "outlinewidth": 0,
             "ticks": ""
            },
            "colorscale": [
             [
              0,
              "#0d0887"
             ],
             [
              0.1111111111111111,
              "#46039f"
             ],
             [
              0.2222222222222222,
              "#7201a8"
             ],
             [
              0.3333333333333333,
              "#9c179e"
             ],
             [
              0.4444444444444444,
              "#bd3786"
             ],
             [
              0.5555555555555556,
              "#d8576b"
             ],
             [
              0.6666666666666666,
              "#ed7953"
             ],
             [
              0.7777777777777778,
              "#fb9f3a"
             ],
             [
              0.8888888888888888,
              "#fdca26"
             ],
             [
              1,
              "#f0f921"
             ]
            ],
            "type": "contour"
           }
          ],
          "contourcarpet": [
           {
            "colorbar": {
             "outlinewidth": 0,
             "ticks": ""
            },
            "type": "contourcarpet"
           }
          ],
          "heatmap": [
           {
            "colorbar": {
             "outlinewidth": 0,
             "ticks": ""
            },
            "colorscale": [
             [
              0,
              "#0d0887"
             ],
             [
              0.1111111111111111,
              "#46039f"
             ],
             [
              0.2222222222222222,
              "#7201a8"
             ],
             [
              0.3333333333333333,
              "#9c179e"
             ],
             [
              0.4444444444444444,
              "#bd3786"
             ],
             [
              0.5555555555555556,
              "#d8576b"
             ],
             [
              0.6666666666666666,
              "#ed7953"
             ],
             [
              0.7777777777777778,
              "#fb9f3a"
             ],
             [
              0.8888888888888888,
              "#fdca26"
             ],
             [
              1,
              "#f0f921"
             ]
            ],
            "type": "heatmap"
           }
          ],
          "heatmapgl": [
           {
            "colorbar": {
             "outlinewidth": 0,
             "ticks": ""
            },
            "colorscale": [
             [
              0,
              "#0d0887"
             ],
             [
              0.1111111111111111,
              "#46039f"
             ],
             [
              0.2222222222222222,
              "#7201a8"
             ],
             [
              0.3333333333333333,
              "#9c179e"
             ],
             [
              0.4444444444444444,
              "#bd3786"
             ],
             [
              0.5555555555555556,
              "#d8576b"
             ],
             [
              0.6666666666666666,
              "#ed7953"
             ],
             [
              0.7777777777777778,
              "#fb9f3a"
             ],
             [
              0.8888888888888888,
              "#fdca26"
             ],
             [
              1,
              "#f0f921"
             ]
            ],
            "type": "heatmapgl"
           }
          ],
          "histogram": [
           {
            "marker": {
             "pattern": {
              "fillmode": "overlay",
              "size": 10,
              "solidity": 0.2
             }
            },
            "type": "histogram"
           }
          ],
          "histogram2d": [
           {
            "colorbar": {
             "outlinewidth": 0,
             "ticks": ""
            },
            "colorscale": [
             [
              0,
              "#0d0887"
             ],
             [
              0.1111111111111111,
              "#46039f"
             ],
             [
              0.2222222222222222,
              "#7201a8"
             ],
             [
              0.3333333333333333,
              "#9c179e"
             ],
             [
              0.4444444444444444,
              "#bd3786"
             ],
             [
              0.5555555555555556,
              "#d8576b"
             ],
             [
              0.6666666666666666,
              "#ed7953"
             ],
             [
              0.7777777777777778,
              "#fb9f3a"
             ],
             [
              0.8888888888888888,
              "#fdca26"
             ],
             [
              1,
              "#f0f921"
             ]
            ],
            "type": "histogram2d"
           }
          ],
          "histogram2dcontour": [
           {
            "colorbar": {
             "outlinewidth": 0,
             "ticks": ""
            },
            "colorscale": [
             [
              0,
              "#0d0887"
             ],
             [
              0.1111111111111111,
              "#46039f"
             ],
             [
              0.2222222222222222,
              "#7201a8"
             ],
             [
              0.3333333333333333,
              "#9c179e"
             ],
             [
              0.4444444444444444,
              "#bd3786"
             ],
             [
              0.5555555555555556,
              "#d8576b"
             ],
             [
              0.6666666666666666,
              "#ed7953"
             ],
             [
              0.7777777777777778,
              "#fb9f3a"
             ],
             [
              0.8888888888888888,
              "#fdca26"
             ],
             [
              1,
              "#f0f921"
             ]
            ],
            "type": "histogram2dcontour"
           }
          ],
          "mesh3d": [
           {
            "colorbar": {
             "outlinewidth": 0,
             "ticks": ""
            },
            "type": "mesh3d"
           }
          ],
          "parcoords": [
           {
            "line": {
             "colorbar": {
              "outlinewidth": 0,
              "ticks": ""
             }
            },
            "type": "parcoords"
           }
          ],
          "pie": [
           {
            "automargin": true,
            "type": "pie"
           }
          ],
          "scatter": [
           {
            "marker": {
             "colorbar": {
              "outlinewidth": 0,
              "ticks": ""
             }
            },
            "type": "scatter"
           }
          ],
          "scatter3d": [
           {
            "line": {
             "colorbar": {
              "outlinewidth": 0,
              "ticks": ""
             }
            },
            "marker": {
             "colorbar": {
              "outlinewidth": 0,
              "ticks": ""
             }
            },
            "type": "scatter3d"
           }
          ],
          "scattercarpet": [
           {
            "marker": {
             "colorbar": {
              "outlinewidth": 0,
              "ticks": ""
             }
            },
            "type": "scattercarpet"
           }
          ],
          "scattergeo": [
           {
            "marker": {
             "colorbar": {
              "outlinewidth": 0,
              "ticks": ""
             }
            },
            "type": "scattergeo"
           }
          ],
          "scattergl": [
           {
            "marker": {
             "colorbar": {
              "outlinewidth": 0,
              "ticks": ""
             }
            },
            "type": "scattergl"
           }
          ],
          "scattermapbox": [
           {
            "marker": {
             "colorbar": {
              "outlinewidth": 0,
              "ticks": ""
             }
            },
            "type": "scattermapbox"
           }
          ],
          "scatterpolar": [
           {
            "marker": {
             "colorbar": {
              "outlinewidth": 0,
              "ticks": ""
             }
            },
            "type": "scatterpolar"
           }
          ],
          "scatterpolargl": [
           {
            "marker": {
             "colorbar": {
              "outlinewidth": 0,
              "ticks": ""
             }
            },
            "type": "scatterpolargl"
           }
          ],
          "scatterternary": [
           {
            "marker": {
             "colorbar": {
              "outlinewidth": 0,
              "ticks": ""
             }
            },
            "type": "scatterternary"
           }
          ],
          "surface": [
           {
            "colorbar": {
             "outlinewidth": 0,
             "ticks": ""
            },
            "colorscale": [
             [
              0,
              "#0d0887"
             ],
             [
              0.1111111111111111,
              "#46039f"
             ],
             [
              0.2222222222222222,
              "#7201a8"
             ],
             [
              0.3333333333333333,
              "#9c179e"
             ],
             [
              0.4444444444444444,
              "#bd3786"
             ],
             [
              0.5555555555555556,
              "#d8576b"
             ],
             [
              0.6666666666666666,
              "#ed7953"
             ],
             [
              0.7777777777777778,
              "#fb9f3a"
             ],
             [
              0.8888888888888888,
              "#fdca26"
             ],
             [
              1,
              "#f0f921"
             ]
            ],
            "type": "surface"
           }
          ],
          "table": [
           {
            "cells": {
             "fill": {
              "color": "#EBF0F8"
             },
             "line": {
              "color": "white"
             }
            },
            "header": {
             "fill": {
              "color": "#C8D4E3"
             },
             "line": {
              "color": "white"
             }
            },
            "type": "table"
           }
          ]
         },
         "layout": {
          "annotationdefaults": {
           "arrowcolor": "#2a3f5f",
           "arrowhead": 0,
           "arrowwidth": 1
          },
          "autotypenumbers": "strict",
          "coloraxis": {
           "colorbar": {
            "outlinewidth": 0,
            "ticks": ""
           }
          },
          "colorscale": {
           "diverging": [
            [
             0,
             "#8e0152"
            ],
            [
             0.1,
             "#c51b7d"
            ],
            [
             0.2,
             "#de77ae"
            ],
            [
             0.3,
             "#f1b6da"
            ],
            [
             0.4,
             "#fde0ef"
            ],
            [
             0.5,
             "#f7f7f7"
            ],
            [
             0.6,
             "#e6f5d0"
            ],
            [
             0.7,
             "#b8e186"
            ],
            [
             0.8,
             "#7fbc41"
            ],
            [
             0.9,
             "#4d9221"
            ],
            [
             1,
             "#276419"
            ]
           ],
           "sequential": [
            [
             0,
             "#0d0887"
            ],
            [
             0.1111111111111111,
             "#46039f"
            ],
            [
             0.2222222222222222,
             "#7201a8"
            ],
            [
             0.3333333333333333,
             "#9c179e"
            ],
            [
             0.4444444444444444,
             "#bd3786"
            ],
            [
             0.5555555555555556,
             "#d8576b"
            ],
            [
             0.6666666666666666,
             "#ed7953"
            ],
            [
             0.7777777777777778,
             "#fb9f3a"
            ],
            [
             0.8888888888888888,
             "#fdca26"
            ],
            [
             1,
             "#f0f921"
            ]
           ],
           "sequentialminus": [
            [
             0,
             "#0d0887"
            ],
            [
             0.1111111111111111,
             "#46039f"
            ],
            [
             0.2222222222222222,
             "#7201a8"
            ],
            [
             0.3333333333333333,
             "#9c179e"
            ],
            [
             0.4444444444444444,
             "#bd3786"
            ],
            [
             0.5555555555555556,
             "#d8576b"
            ],
            [
             0.6666666666666666,
             "#ed7953"
            ],
            [
             0.7777777777777778,
             "#fb9f3a"
            ],
            [
             0.8888888888888888,
             "#fdca26"
            ],
            [
             1,
             "#f0f921"
            ]
           ]
          },
          "colorway": [
           "#636efa",
           "#EF553B",
           "#00cc96",
           "#ab63fa",
           "#FFA15A",
           "#19d3f3",
           "#FF6692",
           "#B6E880",
           "#FF97FF",
           "#FECB52"
          ],
          "font": {
           "color": "#2a3f5f"
          },
          "geo": {
           "bgcolor": "white",
           "lakecolor": "white",
           "landcolor": "#E5ECF6",
           "showlakes": true,
           "showland": true,
           "subunitcolor": "white"
          },
          "hoverlabel": {
           "align": "left"
          },
          "hovermode": "closest",
          "mapbox": {
           "style": "light"
          },
          "paper_bgcolor": "white",
          "plot_bgcolor": "#E5ECF6",
          "polar": {
           "angularaxis": {
            "gridcolor": "white",
            "linecolor": "white",
            "ticks": ""
           },
           "bgcolor": "#E5ECF6",
           "radialaxis": {
            "gridcolor": "white",
            "linecolor": "white",
            "ticks": ""
           }
          },
          "scene": {
           "xaxis": {
            "backgroundcolor": "#E5ECF6",
            "gridcolor": "white",
            "gridwidth": 2,
            "linecolor": "white",
            "showbackground": true,
            "ticks": "",
            "zerolinecolor": "white"
           },
           "yaxis": {
            "backgroundcolor": "#E5ECF6",
            "gridcolor": "white",
            "gridwidth": 2,
            "linecolor": "white",
            "showbackground": true,
            "ticks": "",
            "zerolinecolor": "white"
           },
           "zaxis": {
            "backgroundcolor": "#E5ECF6",
            "gridcolor": "white",
            "gridwidth": 2,
            "linecolor": "white",
            "showbackground": true,
            "ticks": "",
            "zerolinecolor": "white"
           }
          },
          "shapedefaults": {
           "line": {
            "color": "#2a3f5f"
           }
          },
          "ternary": {
           "aaxis": {
            "gridcolor": "white",
            "linecolor": "white",
            "ticks": ""
           },
           "baxis": {
            "gridcolor": "white",
            "linecolor": "white",
            "ticks": ""
           },
           "bgcolor": "#E5ECF6",
           "caxis": {
            "gridcolor": "white",
            "linecolor": "white",
            "ticks": ""
           }
          },
          "title": {
           "x": 0.05
          },
          "xaxis": {
           "automargin": true,
           "gridcolor": "white",
           "linecolor": "white",
           "ticks": "",
           "title": {
            "standoff": 15
           },
           "zerolinecolor": "white",
           "zerolinewidth": 2
          },
          "yaxis": {
           "automargin": true,
           "gridcolor": "white",
           "linecolor": "white",
           "ticks": "",
           "title": {
            "standoff": 15
           },
           "zerolinecolor": "white",
           "zerolinewidth": 2
          }
         }
        },
        "title": {
         "font": {
          "color": "#181818",
          "family": "Test Söhne, Sohne, Manrope, Inter, Arial",
          "size": 16
         },
         "text": "<span style=\"font-size: 18px; font-weight:600\">Australia</span><br><span style=\"font-family: Manrope, Sohne, Inter, Arial; font-size: 11px\">a-league, australia-cup, brisbane-premier-league, npl-act, npl-northern-nsw, npl-nsw, npl-queensland, npl-south-australian, npl-tasmania, npl-victoria, npl-western-australia</span>",
         "x": 0,
         "xanchor": "left",
         "y": 0.95,
         "yanchor": "top"
        },
        "xaxis": {
         "anchor": "y",
         "autorange": true,
         "domain": [
          0,
          0.16799999999999998
         ],
         "gridcolor": "rgba(245,245,245,1)",
         "gridwidth": 1,
         "linecolor": "rgba(24,24,24,1)",
         "linewidth": 1,
         "mirror": false,
         "range": [
          -0.8795683776767566,
          2.5
         ],
         "showgrid": false,
         "showline": true,
         "tickangle": -90,
         "tickfont": {
          "size": 6
         },
         "title": {
          "text": "result type"
         },
         "type": "category"
        },
        "xaxis2": {
         "anchor": "y2",
         "autorange": true,
         "domain": [
          0.208,
          0.376
         ],
         "gridcolor": "rgba(245,245,245,1)",
         "gridwidth": 1,
         "linecolor": "rgba(24,24,24,1)",
         "linewidth": 1,
         "mirror": false,
         "range": [
          -0.9030402285620138,
          2.5
         ],
         "showgrid": false,
         "showline": true,
         "tickangle": -90,
         "tickfont": {
          "size": 6
         },
         "title": {
          "text": "shortest odds at closing"
         },
         "type": "category"
        },
        "xaxis3": {
         "anchor": "y3",
         "autorange": true,
         "domain": [
          0.416,
          0.584
         ],
         "gridcolor": "rgba(245,245,245,1)",
         "gridwidth": 1,
         "linecolor": "rgba(24,24,24,1)",
         "linewidth": 1,
         "mirror": false,
         "range": [
          -0.7318880011872666,
          2.5
         ],
         "showgrid": false,
         "showline": true,
         "tickangle": -90,
         "tickfont": {
          "size": 6
         },
         "title": {
          "text": "shortest odds ppt change"
         },
         "type": "category"
        },
        "xaxis4": {
         "anchor": "y4",
         "autorange": true,
         "domain": [
          0.624,
          0.792
         ],
         "gridcolor": "rgba(245,245,245,1)",
         "gridwidth": 1,
         "linecolor": "rgba(24,24,24,1)",
         "linewidth": 1,
         "mirror": false,
         "range": [
          -2.1882216205401717,
          16.2386546753816
         ],
         "showgrid": false,
         "showline": true,
         "tickangle": -90,
         "tickfont": {
          "size": 6
         },
         "title": {
          "text": "home (x) * away (y) goals"
         },
         "type": "linear"
        },
        "xaxis5": {
         "anchor": "y5",
         "autorange": true,
         "domain": [
          0.832,
          1
         ],
         "gridcolor": "rgba(245,245,245,1)",
         "gridwidth": 1,
         "linecolor": "rgba(24,24,24,1)",
         "linewidth": 1,
         "mirror": false,
         "range": [
          -2.0047429657873153,
          14.5
         ],
         "showgrid": false,
         "showline": true,
         "tickangle": -90,
         "tickfont": {
          "size": 6
         },
         "title": {
          "text": "bookmakers"
         },
         "type": "category"
        },
        "xaxis6": {
         "anchor": "y6",
         "autorange": true,
         "domain": [
          0,
          1
         ],
         "gridcolor": "rgba(245,245,245,1)",
         "gridwidth": 1,
         "linecolor": "rgba(24,24,24,1)",
         "linewidth": 1,
         "mirror": false,
         "range": [
          1.0000996912365283,
          4.05
         ],
         "showgrid": false,
         "showline": true,
         "tickangle": -90,
         "tickfont": {
          "size": 6
         },
         "title": {
          "text": "winning odds (rounded, top 20)"
         },
         "type": "linear"
        },
        "yaxis": {
         "anchor": "x",
         "autorange": true,
         "domain": [
          0.575,
          1
         ],
         "gridcolor": "rgba(245,245,245,1)",
         "gridwidth": 1,
         "linecolor": "rgba(24,24,24,1)",
         "linewidth": 1,
         "mirror": false,
         "range": [
          0,
          175417.8947368421
         ],
         "showgrid": true,
         "showline": false,
         "tickfont": {
          "size": 6
         },
         "ticklabelposition": "inside top",
         "title": {},
         "type": "linear"
        },
        "yaxis2": {
         "anchor": "x2",
         "autorange": true,
         "domain": [
          0.575,
          1
         ],
         "gridcolor": "rgba(245,245,245,1)",
         "gridwidth": 1,
         "linecolor": "rgba(24,24,24,1)",
         "linewidth": 1,
         "mirror": false,
         "range": [
          0,
          237486.31578947368
         ],
         "showgrid": true,
         "showline": false,
         "tickfont": {
          "size": 6
         },
         "ticklabelposition": "inside top",
         "title": {},
         "type": "linear"
        },
        "yaxis3": {
         "anchor": "x3",
         "autorange": true,
         "domain": [
          0.575,
          1
         ],
         "gridcolor": "rgba(245,245,245,1)",
         "gridwidth": 1,
         "linecolor": "rgba(24,24,24,1)",
         "linewidth": 1,
         "mirror": false,
         "range": [
          -1.9666666666666668,
          1.9666666666666668
         ],
         "showgrid": true,
         "showline": false,
         "tickfont": {
          "size": 6
         },
         "ticklabelposition": "inside top",
         "title": {},
         "type": "linear"
        },
        "yaxis4": {
         "anchor": "x4",
         "autorange": true,
         "domain": [
          0.575,
          1
         ],
         "gridcolor": "rgba(245,245,245,1)",
         "gridwidth": 1,
         "linecolor": "rgba(24,24,24,1)",
         "linewidth": 1,
         "mirror": false,
         "range": [
          -1.5120108670523762,
          14.055898295231557
         ],
         "showgrid": true,
         "showline": false,
         "tickfont": {
          "size": 6
         },
         "ticklabelposition": "inside top",
         "title": {},
         "type": "linear"
        },
        "yaxis5": {
         "anchor": "x5",
         "autorange": true,
         "domain": [
          0.575,
          1
         ],
         "gridcolor": "rgba(245,245,245,1)",
         "gridwidth": 1,
         "linecolor": "rgba(24,24,24,1)",
         "linewidth": 1,
         "mirror": false,
         "range": [
          0,
          15293.684210526317
         ],
         "showgrid": true,
         "showline": false,
         "tickfont": {
          "size": 6
         },
         "ticklabelposition": "inside top",
         "title": {},
         "type": "linear"
        },
        "yaxis6": {
         "anchor": "x6",
         "autorange": true,
         "domain": [
          0,
          0.425
         ],
         "gridcolor": "rgba(245,245,245,1)",
         "gridwidth": 1,
         "linecolor": "rgba(24,24,24,1)",
         "linewidth": 1,
         "mirror": false,
         "range": [
          0,
          22274.736842105263
         ],
         "showgrid": true,
         "showline": false,
         "tickfont": {
          "size": 6
         },
         "ticklabelposition": "inside top",
         "title": {},
         "type": "linear"
        }
       }
      },
      "image/png": "[encoded data removed]",
      "text/html": [
       "<div>                            <div id=\"d26b48b5-2d5d-4ee2-bb20-b80738a635dc\" class=\"plotly-graph-div\" style=\"height:500px; width:100%;\"></div>            <script type=\"text/javascript\">                require([\"plotly\"], function(Plotly) {                    window.PLOTLYENV=window.PLOTLYENV || {};                                    if (document.getElementById(\"d26b48b5-2d5d-4ee2-bb20-b80738a635dc\")) {                    Plotly.newPlot(                        \"d26b48b5-2d5d-4ee2-bb20-b80738a635dc\",                        [{\"hovertemplate\":\"%{x}: %{y}<extra></extra>\",\"marker\":{\"color\":[\"rgba(0, 100, 0, 1)\",\"rgba(255, 0, 0, 1)\",\"rgba(249, 180, 45, 1)\"]},\"type\":\"bar\",\"x\":[\"home\",\"away\",\"draw\"],\"xaxis\":\"x\",\"y\":[166647,143176,67480],\"yaxis\":\"y\"},{\"hovertemplate\":\"%{x}: %{y}<extra></extra>\",\"marker\":{\"color\":[\"rgba(0, 100, 0, 1)\",\"rgba(255, 0, 0, 1)\",\"rgba(249, 180, 45, 1)\"]},\"type\":\"bar\",\"x\":[\"home\",\"away\",\"draw\"],\"xaxis\":\"x2\",\"y\":[225612,148614,30],\"yaxis\":\"y2\"},{\"hovertemplate\":\"%{x}: %{y}<extra></extra>\",\"marker\":{\"color\":[\"rgba(0, 100, 0, 1)\",\"rgba(255, 0, 0, 1)\",\"rgba(249, 180, 45, 1)\"]},\"type\":\"bar\",\"x\":[\"home\",\"away\",\"draw\"],\"xaxis\":\"x3\",\"y\":[-1.77,1.77,-0.01],\"yaxis\":\"y3\"},{\"hoverinfo\":\"text\",\"hovertext\":[\"1, 1: 31299\",\"2, 1: 31266\",\"1, 2: 28538\",\"1, 0: 25928\",\"0, 1: 23909\",\"2, 0: 20651\",\"2, 2: 17182\",\"0, 2: 16893\",\"3, 1: 15783\",\"1, 3: 14654\",\"3, 0: 14139\",\"3, 2: 13380\",\"0, 0: 13200\",\"2, 3: 11989\",\"0, 3: 11286\",\"4, 1: 8693\",\"4, 0: 7656\",\"1, 4: 7135\",\"0, 4: 6783\",\"4, 2: 5358\",\"2, 4: 5111\",\"3, 3: 4888\",\"5, 0: 4035\",\"5, 1: 3844\",\"1, 5: 3391\",\"0, 5: 3280\",\"4, 3: 3181\",\"5, 2: 2622\",\"3, 4: 2118\",\"6, 1: 2001\",\"2, 5: 1797\",\"6, 0: 1761\",\"1, 6: 1281\",\"0, 6: 1168\",\"6, 2: 1025\",\"7, 0: 971\",\"3, 5: 897\",\"5, 3: 823\",\"4, 4: 810\",\"7, 1: 545\",\"5, 4: 541\",\"2, 6: 484\",\"6, 3: 426\",\"0, 7: 408\",\"3, 6: 402\",\"8, 1: 332\",\"8, 0: 324\",\"9, 0: 321\",\"1, 7: 298\",\"7, 2: 272\",\"0, 8: 245\",\"2, 7: 176\",\"4, 5: 152\",\"0, 9: 140\",\"1, 8: 138\",\"2, 8: 136\",\"10, 0: 123\",\"5, 5: 95\",\"10, 2: 93\",\"10, 1: 92\",\"7, 3: 90\",\"3, 7: 75\",\"9, 1: 66\",\"8, 2: 62\",\"13, 0: 51\",\"2, 11: 45\",\"2, 9: 40\",\"12, 0: 37\",\"3, 8: 36\",\"0, 11: 35\",\"12, 1: 33\",\"1, 9: 32\",\"2, 10: 29\",\"7, 4: 29\",\"15, 1: 27\",\"4, 6: 23\",\"9, 3: 21\",\"0, 13: 13\",\"0, 10: 12\",\"0, 12: 11\",\"7, 5: 8\",\"11, 0: 8\",\"6, 5: 7\",\"4, 7: 7\",\"13, 1: 7\",\"14, 0: 6\",\"6, 6: 6\",\"11, 2: 5\",\"9, 2: 4\",\"5, 7: 4\",\"1, 10: 3\",\"3, 9: 1\",\"1, 12: 1\"],\"marker\":{\"color\":\"rgb(23,45,187)\",\"size\":[13.300948610526733,13.297441270390951,12.99738200399127,12.689434095457637,12.434844336695548,11.987683597546246,11.449023022334387,11.400573412535302,11.208497237866322,11.002440960488892,10.90447280227882,10.755089489510073,10.718733737282617,10.46395203012106,10.307064919643935,9.655892451825055,9.35406710564498,9.190697971255938,9.075184315898598,8.555604048656086,8.455250333778444,8.361473146030796,7.970047042058722,7.874007874011811,7.631008678160619,7.567779347543467,7.510016951300063,7.155799637913881,6.783932045356543,6.6882388184551305,6.510839944926714,6.477983522417649,5.98256302401793,5.84602557138353,5.658234811950123,5.5821924816120205,5.472655503843073,5.356115810506911,5.334838230116769,4.831690704076318,4.822800711124814,4.69041575982343,4.543101081920838,4.494330859730306,4.47771567384123,4.268590769596987,4.242640687119285,4.232785473794877,4.154837722659222,4.061086369737861,3.9563209984148817,3.6423205736757436,3.5112430855664143,3.439790628250393,3.4274392955194304,3.414952970348289,3.3302457126178266,3.121985641352145,3.1054227990714813,3.0970410146824725,3.080070288241023,2.942830956382712,2.8502698827717983,2.806066263296683,2.6723451177837885,2.5900200641113513,2.514866859365871,2.4663257145596607,2.449489742783178,2.4322992790977875,2.39678172692843,2.378414230005442,2.320595787106084,2.320595787106084,2.2795070569547775,2.189938703094842,2.1406951429280725,1.8988289221159418,1.8612097182041991,1.8211602868378718,1.681792830507429,1.681792830507429,1.6265765616977856,1.6265765616977856,1.6265765616977856,1.5650845800732873,1.5650845800732873,1.4953487812212205,1.4142135623730951,1.4142135623730951,1.3160740129524924,1.0,1.0]},\"mode\":\"markers\",\"type\":\"scatter\",\"x\":[1.0,2.0,1.0,1.0,0.0,2.0,2.0,0.0,3.0,1.0,3.0,3.0,0.0,2.0,0.0,4.0,4.0,1.0,0.0,4.0,2.0,3.0,5.0,5.0,1.0,0.0,4.0,5.0,3.0,6.0,2.0,6.0,1.0,0.0,6.0,7.0,3.0,5.0,4.0,7.0,5.0,2.0,6.0,0.0,3.0,8.0,8.0,9.0,1.0,7.0,0.0,2.0,4.0,0.0,1.0,2.0,10.0,5.0,10.0,10.0,7.0,3.0,9.0,8.0,13.0,2.0,2.0,12.0,3.0,0.0,12.0,1.0,2.0,7.0,15.0,4.0,9.0,0.0,0.0,0.0,7.0,11.0,6.0,4.0,13.0,14.0,6.0,11.0,9.0,5.0,1.0,3.0,1.0],\"xaxis\":\"x4\",\"y\":[1.0,1.0,2.0,0.0,1.0,0.0,2.0,2.0,1.0,3.0,0.0,2.0,0.0,3.0,3.0,1.0,0.0,4.0,4.0,2.0,4.0,3.0,0.0,1.0,5.0,5.0,3.0,2.0,4.0,1.0,5.0,0.0,6.0,6.0,2.0,0.0,5.0,3.0,4.0,1.0,4.0,6.0,3.0,7.0,6.0,1.0,0.0,0.0,7.0,2.0,8.0,7.0,5.0,9.0,8.0,8.0,0.0,5.0,2.0,1.0,3.0,7.0,1.0,2.0,0.0,11.0,9.0,0.0,8.0,11.0,1.0,9.0,10.0,4.0,1.0,6.0,3.0,13.0,10.0,12.0,5.0,0.0,5.0,7.0,1.0,0.0,6.0,2.0,2.0,7.0,10.0,9.0,12.0],\"yaxis\":\"y4\"},{\"hovertemplate\":\"%{x}: %{y}<extra></extra>\",\"marker\":{\"color\":[\"rgb(23,45,187)\",\"rgb(23,45,187)\",\"rgb(23,45,187)\",\"rgb(23,45,187)\",\"rgb(23,45,187)\",\"rgb(23,45,187)\",\"rgb(23,45,187)\",\"rgb(23,45,187)\",\"rgb(23,45,187)\",\"rgb(23,45,187)\",\"rgb(23,45,187)\",\"rgb(23,45,187)\",\"rgb(23,45,187)\",\"rgb(23,45,187)\",\"rgb(23,45,187)\"]},\"type\":\"bar\",\"x\":[\"bet-at-home\",\"10Bet\",\"bwin\",\"BetVictor\",\"188BET\",\"Unibet\",\"ComeOn\",\"Betway\",\"Dafabet\",\"William Hill\",\"888sport\",\"1xBet\",\"bet365\",\"Betsson\",\"Interwetten\"],\"xaxis\":\"x5\",\"y\":[14529,14345,14334,13383,13181,12814,11990,11566,11553,11109,10937,10091,10022,9790,9545],\"yaxis\":\"y5\"},{\"hovertemplate\":\"%{x}: %{y}<extra></extra>\",\"marker\":{\"color\":[\"rgb(23,45,187)\",\"rgb(23,45,187)\",\"rgb(23,45,187)\",\"rgb(23,45,187)\",\"rgb(23,45,187)\",\"rgb(23,45,187)\",\"rgb(23,45,187)\",\"rgb(23,45,187)\",\"rgb(23,45,187)\",\"rgb(23,45,187)\",\"rgb(23,45,187)\",\"rgb(23,45,187)\",\"rgb(23,45,187)\",\"rgb(23,45,187)\",\"rgb(23,45,187)\",\"rgb(23,45,187)\",\"rgb(23,45,187)\",\"rgb(23,45,187)\",\"rgb(23,45,187)\",\"rgb(23,45,187)\"]},\"type\":\"bar\",\"x\":[1.4,1.6,1.9,1.2,1.8,2.0,1.7,1.5,2.1,2.2,1.3,2.5,1.1,2.4,3.5,3.8,2.6,3.6,2.3,4.0],\"xaxis\":\"x6\",\"y\":[21161,20538,18492,15933,15866,15207,14662,14137,14135,13963,13446,12974,10881,10567,10299,9955,9346,9089,8276,8227],\"yaxis\":\"y6\"}],                        {\"font\":{\"color\":\"rgba(24,24,24,1)\",\"family\":\"Manrope, Sohne, Inter, Arial\",\"size\":8},\"height\":500,\"legend\":{\"font\":{\"color\":\"#181818\",\"size\":10},\"orientation\":\"h\",\"x\":1,\"xanchor\":\"right\",\"y\":1,\"yanchor\":\"bottom\"},\"margin\":{\"b\":0,\"l\":0,\"r\":0,\"t\":70},\"paper_bgcolor\":\"rgba(255,255,255,0)\",\"plot_bgcolor\":\"rgba(255,255,255,0)\",\"showlegend\":false,\"template\":{\"data\":{\"bar\":[{\"error_x\":{\"color\":\"#2a3f5f\"},\"error_y\":{\"color\":\"#2a3f5f\"},\"marker\":{\"line\":{\"color\":\"#E5ECF6\",\"width\":0.5},\"pattern\":{\"fillmode\":\"overlay\",\"size\":10,\"solidity\":0.2}},\"type\":\"bar\"}],\"barpolar\":[{\"marker\":{\"line\":{\"color\":\"#E5ECF6\",\"width\":0.5},\"pattern\":{\"fillmode\":\"overlay\",\"size\":10,\"solidity\":0.2}},\"type\":\"barpolar\"}],\"carpet\":[{\"aaxis\":{\"endlinecolor\":\"#2a3f5f\",\"gridcolor\":\"white\",\"linecolor\":\"white\",\"minorgridcolor\":\"white\",\"startlinecolor\":\"#2a3f5f\"},\"baxis\":{\"endlinecolor\":\"#2a3f5f\",\"gridcolor\":\"white\",\"linecolor\":\"white\",\"minorgridcolor\":\"white\",\"startlinecolor\":\"#2a3f5f\"},\"type\":\"carpet\"}],\"choropleth\":[{\"colorbar\":{\"outlinewidth\":0,\"ticks\":\"\"},\"type\":\"choropleth\"}],\"contour\":[{\"colorbar\":{\"outlinewidth\":0,\"ticks\":\"\"},\"colorscale\":[[0.0,\"#0d0887\"],[0.1111111111111111,\"#46039f\"],[0.2222222222222222,\"#7201a8\"],[0.3333333333333333,\"#9c179e\"],[0.4444444444444444,\"#bd3786\"],[0.5555555555555556,\"#d8576b\"],[0.6666666666666666,\"#ed7953\"],[0.7777777777777778,\"#fb9f3a\"],[0.8888888888888888,\"#fdca26\"],[1.0,\"#f0f921\"]],\"type\":\"contour\"}],\"contourcarpet\":[{\"colorbar\":{\"outlinewidth\":0,\"ticks\":\"\"},\"type\":\"contourcarpet\"}],\"heatmap\":[{\"colorbar\":{\"outlinewidth\":0,\"ticks\":\"\"},\"colorscale\":[[0.0,\"#0d0887\"],[0.1111111111111111,\"#46039f\"],[0.2222222222222222,\"#7201a8\"],[0.3333333333333333,\"#9c179e\"],[0.4444444444444444,\"#bd3786\"],[0.5555555555555556,\"#d8576b\"],[0.6666666666666666,\"#ed7953\"],[0.7777777777777778,\"#fb9f3a\"],[0.8888888888888888,\"#fdca26\"],[1.0,\"#f0f921\"]],\"type\":\"heatmap\"}],\"heatmapgl\":[{\"colorbar\":{\"outlinewidth\":0,\"ticks\":\"\"},\"colorscale\":[[0.0,\"#0d0887\"],[0.1111111111111111,\"#46039f\"],[0.2222222222222222,\"#7201a8\"],[0.3333333333333333,\"#9c179e\"],[0.4444444444444444,\"#bd3786\"],[0.5555555555555556,\"#d8576b\"],[0.6666666666666666,\"#ed7953\"],[0.7777777777777778,\"#fb9f3a\"],[0.8888888888888888,\"#fdca26\"],[1.0,\"#f0f921\"]],\"type\":\"heatmapgl\"}],\"histogram\":[{\"marker\":{\"pattern\":{\"fillmode\":\"overlay\",\"size\":10,\"solidity\":0.2}},\"type\":\"histogram\"}],\"histogram2d\":[{\"colorbar\":{\"outlinewidth\":0,\"ticks\":\"\"},\"colorscale\":[[0.0,\"#0d0887\"],[0.1111111111111111,\"#46039f\"],[0.2222222222222222,\"#7201a8\"],[0.3333333333333333,\"#9c179e\"],[0.4444444444444444,\"#bd3786\"],[0.5555555555555556,\"#d8576b\"],[0.6666666666666666,\"#ed7953\"],[0.7777777777777778,\"#fb9f3a\"],[0.8888888888888888,\"#fdca26\"],[1.0,\"#f0f921\"]],\"type\":\"histogram2d\"}],\"histogram2dcontour\":[{\"colorbar\":{\"outlinewidth\":0,\"ticks\":\"\"},\"colorscale\":[[0.0,\"#0d0887\"],[0.1111111111111111,\"#46039f\"],[0.2222222222222222,\"#7201a8\"],[0.3333333333333333,\"#9c179e\"],[0.4444444444444444,\"#bd3786\"],[0.5555555555555556,\"#d8576b\"],[0.6666666666666666,\"#ed7953\"],[0.7777777777777778,\"#fb9f3a\"],[0.8888888888888888,\"#fdca26\"],[1.0,\"#f0f921\"]],\"type\":\"histogram2dcontour\"}],\"mesh3d\":[{\"colorbar\":{\"outlinewidth\":0,\"ticks\":\"\"},\"type\":\"mesh3d\"}],\"parcoords\":[{\"line\":{\"colorbar\":{\"outlinewidth\":0,\"ticks\":\"\"}},\"type\":\"parcoords\"}],\"pie\":[{\"automargin\":true,\"type\":\"pie\"}],\"scatter\":[{\"marker\":{\"colorbar\":{\"outlinewidth\":0,\"ticks\":\"\"}},\"type\":\"scatter\"}],\"scatter3d\":[{\"line\":{\"colorbar\":{\"outlinewidth\":0,\"ticks\":\"\"}},\"marker\":{\"colorbar\":{\"outlinewidth\":0,\"ticks\":\"\"}},\"type\":\"scatter3d\"}],\"scattercarpet\":[{\"marker\":{\"colorbar\":{\"outlinewidth\":0,\"ticks\":\"\"}},\"type\":\"scattercarpet\"}],\"scattergeo\":[{\"marker\":{\"colorbar\":{\"outlinewidth\":0,\"ticks\":\"\"}},\"type\":\"scattergeo\"}],\"scattergl\":[{\"marker\":{\"colorbar\":{\"outlinewidth\":0,\"ticks\":\"\"}},\"type\":\"scattergl\"}],\"scattermapbox\":[{\"marker\":{\"colorbar\":{\"outlinewidth\":0,\"ticks\":\"\"}},\"type\":\"scattermapbox\"}],\"scatterpolar\":[{\"marker\":{\"colorbar\":{\"outlinewidth\":0,\"ticks\":\"\"}},\"type\":\"scatterpolar\"}],\"scatterpolargl\":[{\"marker\":{\"colorbar\":{\"outlinewidth\":0,\"ticks\":\"\"}},\"type\":\"scatterpolargl\"}],\"scatterternary\":[{\"marker\":{\"colorbar\":{\"outlinewidth\":0,\"ticks\":\"\"}},\"type\":\"scatterternary\"}],\"surface\":[{\"colorbar\":{\"outlinewidth\":0,\"ticks\":\"\"},\"colorscale\":[[0.0,\"#0d0887\"],[0.1111111111111111,\"#46039f\"],[0.2222222222222222,\"#7201a8\"],[0.3333333333333333,\"#9c179e\"],[0.4444444444444444,\"#bd3786\"],[0.5555555555555556,\"#d8576b\"],[0.6666666666666666,\"#ed7953\"],[0.7777777777777778,\"#fb9f3a\"],[0.8888888888888888,\"#fdca26\"],[1.0,\"#f0f921\"]],\"type\":\"surface\"}],\"table\":[{\"cells\":{\"fill\":{\"color\":\"#EBF0F8\"},\"line\":{\"color\":\"white\"}},\"header\":{\"fill\":{\"color\":\"#C8D4E3\"},\"line\":{\"color\":\"white\"}},\"type\":\"table\"}]},\"layout\":{\"annotationdefaults\":{\"arrowcolor\":\"#2a3f5f\",\"arrowhead\":0,\"arrowwidth\":1},\"autotypenumbers\":\"strict\",\"coloraxis\":{\"colorbar\":{\"outlinewidth\":0,\"ticks\":\"\"}},\"colorscale\":{\"diverging\":[[0,\"#8e0152\"],[0.1,\"#c51b7d\"],[0.2,\"#de77ae\"],[0.3,\"#f1b6da\"],[0.4,\"#fde0ef\"],[0.5,\"#f7f7f7\"],[0.6,\"#e6f5d0\"],[0.7,\"#b8e186\"],[0.8,\"#7fbc41\"],[0.9,\"#4d9221\"],[1,\"#276419\"]],\"sequential\":[[0.0,\"#0d0887\"],[0.1111111111111111,\"#46039f\"],[0.2222222222222222,\"#7201a8\"],[0.3333333333333333,\"#9c179e\"],[0.4444444444444444,\"#bd3786\"],[0.5555555555555556,\"#d8576b\"],[0.6666666666666666,\"#ed7953\"],[0.7777777777777778,\"#fb9f3a\"],[0.8888888888888888,\"#fdca26\"],[1.0,\"#f0f921\"]],\"sequentialminus\":[[0.0,\"#0d0887\"],[0.1111111111111111,\"#46039f\"],[0.2222222222222222,\"#7201a8\"],[0.3333333333333333,\"#9c179e\"],[0.4444444444444444,\"#bd3786\"],[0.5555555555555556,\"#d8576b\"],[0.6666666666666666,\"#ed7953\"],[0.7777777777777778,\"#fb9f3a\"],[0.8888888888888888,\"#fdca26\"],[1.0,\"#f0f921\"]]},\"colorway\":[\"#636efa\",\"#EF553B\",\"#00cc96\",\"#ab63fa\",\"#FFA15A\",\"#19d3f3\",\"#FF6692\",\"#B6E880\",\"#FF97FF\",\"#FECB52\"],\"font\":{\"color\":\"#2a3f5f\"},\"geo\":{\"bgcolor\":\"white\",\"lakecolor\":\"white\",\"landcolor\":\"#E5ECF6\",\"showlakes\":true,\"showland\":true,\"subunitcolor\":\"white\"},\"hoverlabel\":{\"align\":\"left\"},\"hovermode\":\"closest\",\"mapbox\":{\"style\":\"light\"},\"paper_bgcolor\":\"white\",\"plot_bgcolor\":\"#E5ECF6\",\"polar\":{\"angularaxis\":{\"gridcolor\":\"white\",\"linecolor\":\"white\",\"ticks\":\"\"},\"bgcolor\":\"#E5ECF6\",\"radialaxis\":{\"gridcolor\":\"white\",\"linecolor\":\"white\",\"ticks\":\"\"}},\"scene\":{\"xaxis\":{\"backgroundcolor\":\"#E5ECF6\",\"gridcolor\":\"white\",\"gridwidth\":2,\"linecolor\":\"white\",\"showbackground\":true,\"ticks\":\"\",\"zerolinecolor\":\"white\"},\"yaxis\":{\"backgroundcolor\":\"#E5ECF6\",\"gridcolor\":\"white\",\"gridwidth\":2,\"linecolor\":\"white\",\"showbackground\":true,\"ticks\":\"\",\"zerolinecolor\":\"white\"},\"zaxis\":{\"backgroundcolor\":\"#E5ECF6\",\"gridcolor\":\"white\",\"gridwidth\":2,\"linecolor\":\"white\",\"showbackground\":true,\"ticks\":\"\",\"zerolinecolor\":\"white\"}},\"shapedefaults\":{\"line\":{\"color\":\"#2a3f5f\"}},\"ternary\":{\"aaxis\":{\"gridcolor\":\"white\",\"linecolor\":\"white\",\"ticks\":\"\"},\"baxis\":{\"gridcolor\":\"white\",\"linecolor\":\"white\",\"ticks\":\"\"},\"bgcolor\":\"#E5ECF6\",\"caxis\":{\"gridcolor\":\"white\",\"linecolor\":\"white\",\"ticks\":\"\"}},\"title\":{\"x\":0.05},\"xaxis\":{\"automargin\":true,\"gridcolor\":\"white\",\"linecolor\":\"white\",\"ticks\":\"\",\"title\":{\"standoff\":15},\"zerolinecolor\":\"white\",\"zerolinewidth\":2},\"yaxis\":{\"automargin\":true,\"gridcolor\":\"white\",\"linecolor\":\"white\",\"ticks\":\"\",\"title\":{\"standoff\":15},\"zerolinecolor\":\"white\",\"zerolinewidth\":2}}},\"title\":{\"font\":{\"color\":\"#181818\",\"family\":\"Test S\\u00f6hne, Sohne, Manrope, Inter, Arial\",\"size\":16},\"text\":\"<span style=\\\"font-size: 18px; font-weight:600\\\">Australia</span><br><span style=\\\"font-family: Manrope, Sohne, Inter, Arial; font-size: 11px\\\">a-league, australia-cup, brisbane-premier-league, npl-act, npl-northern-nsw, npl-nsw, npl-queensland, npl-south-australian, npl-tasmania, npl-victoria, npl-western-australia</span>\",\"x\":0,\"xanchor\":\"left\",\"y\":0.95,\"yanchor\":\"top\"},\"xaxis\":{\"anchor\":\"y\",\"domain\":[0.0,0.16799999999999998],\"gridcolor\":\"rgba(245,245,245,1)\",\"gridwidth\":1,\"linecolor\":\"rgba(24,24,24,1)\",\"linewidth\":1,\"mirror\":false,\"showgrid\":false,\"showline\":true,\"tickangle\":-90,\"tickfont\":{\"size\":6},\"title\":{\"text\":\"result type\"}},\"xaxis2\":{\"anchor\":\"y2\",\"domain\":[0.208,0.376],\"gridcolor\":\"rgba(245,245,245,1)\",\"gridwidth\":1,\"linecolor\":\"rgba(24,24,24,1)\",\"linewidth\":1,\"mirror\":false,\"showgrid\":false,\"showline\":true,\"tickangle\":-90,\"tickfont\":{\"size\":6},\"title\":{\"text\":\"shortest odds at closing\"}},\"xaxis3\":{\"anchor\":\"y3\",\"domain\":[0.416,0.584],\"gridcolor\":\"rgba(245,245,245,1)\",\"gridwidth\":1,\"linecolor\":\"rgba(24,24,24,1)\",\"linewidth\":1,\"mirror\":false,\"showgrid\":false,\"showline\":true,\"tickangle\":-90,\"tickfont\":{\"size\":6},\"title\":{\"text\":\"shortest odds ppt change\"}},\"xaxis4\":{\"anchor\":\"y4\",\"domain\":[0.624,0.792],\"gridcolor\":\"rgba(245,245,245,1)\",\"gridwidth\":1,\"linecolor\":\"rgba(24,24,24,1)\",\"linewidth\":1,\"mirror\":false,\"showgrid\":false,\"showline\":true,\"tickangle\":-90,\"tickfont\":{\"size\":6},\"title\":{\"text\":\"home (x) * away (y) goals\"}},\"xaxis5\":{\"anchor\":\"y5\",\"domain\":[0.832,1.0],\"gridcolor\":\"rgba(245,245,245,1)\",\"gridwidth\":1,\"linecolor\":\"rgba(24,24,24,1)\",\"linewidth\":1,\"mirror\":false,\"showgrid\":false,\"showline\":true,\"tickangle\":-90,\"tickfont\":{\"size\":6},\"title\":{\"text\":\"bookmakers\"}},\"xaxis6\":{\"anchor\":\"y6\",\"domain\":[0.0,1.0],\"gridcolor\":\"rgba(245,245,245,1)\",\"gridwidth\":1,\"linecolor\":\"rgba(24,24,24,1)\",\"linewidth\":1,\"mirror\":false,\"showgrid\":false,\"showline\":true,\"tickangle\":-90,\"tickfont\":{\"size\":6},\"title\":{\"text\":\"winning odds (rounded, top 20)\"}},\"yaxis\":{\"anchor\":\"x\",\"domain\":[0.575,1.0],\"gridcolor\":\"rgba(245,245,245,1)\",\"gridwidth\":1,\"linecolor\":\"rgba(24,24,24,1)\",\"linewidth\":1,\"mirror\":false,\"showgrid\":true,\"showline\":false,\"tickfont\":{\"size\":6},\"ticklabelposition\":\"inside top\",\"title\":{}},\"yaxis2\":{\"anchor\":\"x2\",\"domain\":[0.575,1.0],\"gridcolor\":\"rgba(245,245,245,1)\",\"gridwidth\":1,\"linecolor\":\"rgba(24,24,24,1)\",\"linewidth\":1,\"mirror\":false,\"showgrid\":true,\"showline\":false,\"tickfont\":{\"size\":6},\"ticklabelposition\":\"inside top\",\"title\":{}},\"yaxis3\":{\"anchor\":\"x3\",\"domain\":[0.575,1.0],\"gridcolor\":\"rgba(245,245,245,1)\",\"gridwidth\":1,\"linecolor\":\"rgba(24,24,24,1)\",\"linewidth\":1,\"mirror\":false,\"showgrid\":true,\"showline\":false,\"tickfont\":{\"size\":6},\"ticklabelposition\":\"inside top\",\"title\":{}},\"yaxis4\":{\"anchor\":\"x4\",\"domain\":[0.575,1.0],\"gridcolor\":\"rgba(245,245,245,1)\",\"gridwidth\":1,\"linecolor\":\"rgba(24,24,24,1)\",\"linewidth\":1,\"mirror\":false,\"showgrid\":true,\"showline\":false,\"tickfont\":{\"size\":6},\"ticklabelposition\":\"inside top\",\"title\":{}},\"yaxis5\":{\"anchor\":\"x5\",\"domain\":[0.575,1.0],\"gridcolor\":\"rgba(245,245,245,1)\",\"gridwidth\":1,\"linecolor\":\"rgba(24,24,24,1)\",\"linewidth\":1,\"mirror\":false,\"showgrid\":true,\"showline\":false,\"tickfont\":{\"size\":6},\"ticklabelposition\":\"inside top\",\"title\":{}},\"yaxis6\":{\"anchor\":\"x6\",\"domain\":[0.0,0.425],\"gridcolor\":\"rgba(245,245,245,1)\",\"gridwidth\":1,\"linecolor\":\"rgba(24,24,24,1)\",\"linewidth\":1,\"mirror\":false,\"showgrid\":true,\"showline\":false,\"tickfont\":{\"size\":6},\"ticklabelposition\":\"inside top\",\"title\":{}}},                        {\"responsive\": true}                    ).then(function(){\n",
       "                            \n",
       "var gd = document.getElementById('d26b48b5-2d5d-4ee2-bb20-b80738a635dc');\n",
       "var x = new MutationObserver(function (mutations, observer) {{\n",
       "        var display = window.getComputedStyle(gd).display;\n",
       "        if (!display || display === 'none') {{\n",
       "            console.log([gd, 'removed!']);\n",
       "            Plotly.purge(gd);\n",
       "            observer.disconnect();\n",
       "        }}\n",
       "}});\n",
       "\n",
       "// Listen for the removal of the full notebook cells\n",
       "var notebookContainer = gd.closest('#notebook-container');\n",
       "if (notebookContainer) {{\n",
       "    x.observe(notebookContainer, {childList: true});\n",
       "}}\n",
       "\n",
       "// Listen for the clearing of the current output cell\n",
       "var outputEl = gd.closest('.output');\n",
       "if (outputEl) {{\n",
       "    x.observe(outputEl, {childList: true});\n",
       "}}\n",
       "\n",
       "                        })                };                });            </script>        </div>"
      ]
     },
     "metadata": {},
     "output_type": "display_data"
    }
   ],
   "source": [
    "makeSubplots('australia', None)"
   ]
  },
  {
   "cell_type": "code",
   "execution_count": null,
   "id": "4e1acdfe-38d8-47a9-8c9a-76469bb10c70",
   "metadata": {},
   "outputs": [],
   "source": []
  },
  {
   "cell_type": "code",
   "execution_count": null,
   "id": "c0d90917-08e7-4046-8dd4-616aaf3998a8",
   "metadata": {},
   "outputs": [],
   "source": []
  }
 ],
 "metadata": {
  "kernelspec": {
   "display_name": "Python 3",
   "language": "python",
   "name": "python3"
  },
  "language_info": {
   "codemirror_mode": {
    "name": "ipython",
    "version": 3
   },
   "file_extension": ".py",
   "mimetype": "text/x-python",
   "name": "python",
   "nbconvert_exporter": "python",
   "pygments_lexer": "ipython3",
   "version": "3.9.4"
  }
 },
 "nbformat": 4,
 "nbformat_minor": 5
}
